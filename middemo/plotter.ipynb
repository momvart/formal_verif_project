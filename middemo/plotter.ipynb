{
 "cells": [
  {
   "cell_type": "code",
   "execution_count": 1,
   "metadata": {},
   "outputs": [],
   "source": [
    "import pandas as pd\n",
    "import json\n",
    "import matplotlib as plt"
   ]
  },
  {
   "cell_type": "code",
   "execution_count": 4,
   "metadata": {},
   "outputs": [],
   "source": [
    "def read_times(path: str):\n",
    "    times = []\n",
    "    with open(path, 'r') as f:\n",
    "        for key, value in json.load(f).items():\n",
    "            for time in value[\"times\"]:\n",
    "                times.append({\"path\": path, \"config\": key, \"time\": time})\n",
    "    return times\n"
   ]
  },
  {
   "cell_type": "code",
   "execution_count": 19,
   "metadata": {},
   "outputs": [
    {
     "data": {
      "text/html": [
       "<div>\n",
       "<style scoped>\n",
       "    .dataframe tbody tr th:only-of-type {\n",
       "        vertical-align: middle;\n",
       "    }\n",
       "\n",
       "    .dataframe tbody tr th {\n",
       "        vertical-align: top;\n",
       "    }\n",
       "\n",
       "    .dataframe thead tr th {\n",
       "        text-align: left;\n",
       "    }\n",
       "\n",
       "    .dataframe thead tr:last-of-type th {\n",
       "        text-align: right;\n",
       "    }\n",
       "</style>\n",
       "<table border=\"1\" class=\"dataframe\">\n",
       "  <thead>\n",
       "    <tr>\n",
       "      <th></th>\n",
       "      <th colspan=\"4\" halign=\"left\">time</th>\n",
       "    </tr>\n",
       "    <tr>\n",
       "      <th>config</th>\n",
       "      <th>dinc_original</th>\n",
       "      <th>incr_original</th>\n",
       "      <th>incr_tsp</th>\n",
       "      <th>res_original</th>\n",
       "    </tr>\n",
       "    <tr>\n",
       "      <th>path</th>\n",
       "      <th></th>\n",
       "      <th></th>\n",
       "      <th></th>\n",
       "      <th></th>\n",
       "    </tr>\n",
       "  </thead>\n",
       "  <tbody>\n",
       "    <tr>\n",
       "      <th>echo-cache_direct_e_0.json</th>\n",
       "      <td>11.243070</td>\n",
       "      <td>8.907170</td>\n",
       "      <td>8.933061</td>\n",
       "      <td>14.347062</td>\n",
       "    </tr>\n",
       "    <tr>\n",
       "      <th>echo-cache_direct_i_0.json</th>\n",
       "      <td>11.250799</td>\n",
       "      <td>8.979205</td>\n",
       "      <td>8.637758</td>\n",
       "      <td>14.320925</td>\n",
       "    </tr>\n",
       "    <tr>\n",
       "      <th>echo-cache_direct_i_i.json</th>\n",
       "      <td>10.771402</td>\n",
       "      <td>8.658073</td>\n",
       "      <td>8.313831</td>\n",
       "      <td>13.849869</td>\n",
       "    </tr>\n",
       "    <tr>\n",
       "      <th>echo-cache_nodirect_e_i.json</th>\n",
       "      <td>11.338117</td>\n",
       "      <td>8.828599</td>\n",
       "      <td>8.829656</td>\n",
       "      <td>14.330125</td>\n",
       "    </tr>\n",
       "    <tr>\n",
       "      <th>echo-cache_nodirect_i_i.json</th>\n",
       "      <td>10.821916</td>\n",
       "      <td>8.576981</td>\n",
       "      <td>8.243926</td>\n",
       "      <td>13.780005</td>\n",
       "    </tr>\n",
       "  </tbody>\n",
       "</table>\n",
       "</div>"
      ],
      "text/plain": [
       "                                      time                          \\\n",
       "config                       dinc_original incr_original  incr_tsp   \n",
       "path                                                                 \n",
       "echo-cache_direct_e_0.json       11.243070      8.907170  8.933061   \n",
       "echo-cache_direct_i_0.json       11.250799      8.979205  8.637758   \n",
       "echo-cache_direct_i_i.json       10.771402      8.658073  8.313831   \n",
       "echo-cache_nodirect_e_i.json     11.338117      8.828599  8.829656   \n",
       "echo-cache_nodirect_i_i.json     10.821916      8.576981  8.243926   \n",
       "\n",
       "                                           \n",
       "config                       res_original  \n",
       "path                                       \n",
       "echo-cache_direct_e_0.json      14.347062  \n",
       "echo-cache_direct_i_0.json      14.320925  \n",
       "echo-cache_direct_i_i.json      13.849869  \n",
       "echo-cache_nodirect_e_i.json    14.330125  \n",
       "echo-cache_nodirect_i_i.json    13.780005  "
      ]
     },
     "execution_count": 19,
     "metadata": {},
     "output_type": "execute_result"
    }
   ],
   "source": [
    "paths = [\"echo-cache_direct_i_0.json\", \"echo-cache_direct_e_0.json\", \"echo-cache_direct_i_i.json\", \"echo-cache_nodirect_e_i.json\", \"echo-cache_nodirect_i_i.json\"]\n",
    "data = pd.DataFrame(sum((read_times(path) for path in paths), start=[]))\n",
    "data = data.pivot_table(index=[\"path\"], columns=[\"config\"], values=[\"time\"], aggfunc=\"mean\")\n",
    "data"
   ]
  },
  {
   "cell_type": "code",
   "execution_count": 30,
   "metadata": {},
   "outputs": [
    {
     "data": {
      "text/plain": [
       "<AxesSubplot: xlabel='path'>"
      ]
     },
     "execution_count": 30,
     "metadata": {},
     "output_type": "execute_result"
    },
    {
     "data": {
      "image/png": "[encoded data removed]",
      "text/plain": [
       "<Figure size 640x480 with 1 Axes>"
      ]
     },
     "metadata": {},
     "output_type": "display_data"
    }
   ],
   "source": [
    "data.plot.bar()"
   ]
  },
  {
   "cell_type": "code",
   "execution_count": 20,
   "metadata": {},
   "outputs": [
    {
     "name": "stderr",
     "output_type": "stream",
     "text": [
      "/tmp/ipykernel_3210529/1519758276.py:2: PerformanceWarning: indexing past lexsort depth may impact performance.\n",
      "  x = amir_data.loc[(\"echo-cache_direct_i_0.json\", \"res_original\")][\"time\"].to_numpy()\n"
     ]
    },
    {
     "data": {
      "text/plain": [
       "array([14.50101361, 14.34756814, 14.06750241, 14.6622839 , 14.02625559])"
      ]
     },
     "execution_count": 20,
     "metadata": {},
     "output_type": "execute_result"
    }
   ],
   "source": [
    "amir_data = data.set_index([\"path\", \"config\"])\n",
    "x = amir_data.loc[(\"echo-cache_direct_i_0.json\", \"res_original\")][\"time\"].to_numpy()\n",
    "x"
   ]
  },
  {
   "cell_type": "code",
   "execution_count": 25,
   "metadata": {},
   "outputs": [
    {
     "data": {
      "text/plain": [
       "      config         \n",
       "time  dummy incr impr    21.529234\n",
       "      incr impr          37.770377\n",
       "dtype: float64"
      ]
     },
     "execution_count": 25,
     "metadata": {},
     "output_type": "execute_result"
    }
   ],
   "source": [
    "data[('time', \"dummy incr impr\")] = (data[('time', \"res_original\")] - data[('time', \"dinc_original\")]) / data[('time', \"res_original\")] * 100\n",
    "data[('time', \"incr impr\")] = (data[('time', \"res_original\")] - data[('time', \"incr_original\")]) / data[('time', \"res_original\")] * 100\n",
    "data[('time', \"tsp incr impr\")] = (data[('time', \"res_original\")] - data[('time', \"incr_tsp\")]) / data[('time', \"res_original\")] * 100\n",
    "data[[('time', \"dummy incr impr\"), ('time', \"incr impr\")]].mean()\n",
    "# data[[('time', \"tsp incr impr\")]]"
   ]
  }
 ],
 "metadata": {
  "kernelspec": {
   "display_name": "Python 3.10.6 ('st_project')",
   "language": "python",
   "name": "python3"
  },
  "language_info": {
   "codemirror_mode": {
    "name": "ipython",
    "version": 3
   },
   "file_extension": ".py",
   "mimetype": "text/x-python",
   "name": "python",
   "nbconvert_exporter": "python",
   "pygments_lexer": "ipython3",
   "version": "3.10.6"
  },
  "orig_nbformat": 4,
  "vscode": {
   "interpreter": {
    "hash": "7f882a3639542dd5811c1790480d5caf019b9e40a56d63205866f35f84192d7e"
   }
  }
 },
 "nbformat": 4,
 "nbformat_minor": 2
}
