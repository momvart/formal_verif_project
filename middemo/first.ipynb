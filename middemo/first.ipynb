{
 "cells": [
  {
   "cell_type": "code",
   "execution_count": 1,
   "metadata": {},
   "outputs": [],
   "source": [
    "from z3 import *\n",
    "import z3\n",
    "import pandas as pd\n",
    "import time\n",
    "from tqdm import tqdm\n",
    "from concurrent.futures import ProcessPoolExecutor\n",
    "from itertools import islice"
   ]
  },
  {
   "cell_type": "code",
   "execution_count": 2,
   "metadata": {},
   "outputs": [],
   "source": [
    "def parse_queries_from_klee_smt2_dump(path: str):\n",
    "    queries = []\n",
    "    with open(path) as f:\n",
    "        current = \"\"\n",
    "        for line in f:\n",
    "            if line == \"(check-sat)\":\n",
    "                continue\n",
    "            if line.strip() == \"(reset)\":\n",
    "                queries.append(z3.parse_smt2_string(current))\n",
    "                current = \"\"\n",
    "            current += line\n",
    "    return queries        "
   ]
  },
  {
   "cell_type": "code",
   "execution_count": 3,
   "metadata": {},
   "outputs": [
    {
     "name": "stdout",
     "output_type": "stream",
     "text": [
      "4330 queries were loaded.\n"
     ]
    }
   ],
   "source": [
    "queries = parse_queries_from_klee_smt2_dump(\"sort-cache-notimelimit.smt2\")\n",
    "print(f\"{len(queries)} queries were loaded.\")"
   ]
  },
  {
   "cell_type": "code",
   "execution_count": 4,
   "metadata": {},
   "outputs": [],
   "source": [
    "def calc_distance_keeping_constraint_order(first: list, second: list, pop_cost, push_cost):\n",
    "    \"\"\"\n",
    "    Calculates a distance between two queries while not trying to change the order\n",
    "    of constraints inside them.\n",
    "    The returned distance mimics the cost of pushing and popping when the second query\n",
    "    is solved right after the first query.\n",
    "    \"\"\"\n",
    "    i = 0\n",
    "    while i < len(first) and i < len(second) and first[i].eq(second[i]):\n",
    "        i += 1\n",
    "\n",
    "    return (i, pop_cost(len(first) - i) + push_cost(len(second) - i))\n",
    "    # If you believe that there's no cost in popping, you can use the following\n",
    "    # formula. But personally, I see each pop as a negative thing and losing a\n",
    "    # progress.\n",
    "    # return (i, len(second) - i)\n",
    "\n",
    "def calc_distances_for(query_index: int, queries, calc_distance, pop_cost, push_cost):\n",
    "    query = queries[query_index]\n",
    "    distances = [0] * len(queries)\n",
    "    for j in range(len(queries)):\n",
    "        distances[j] = calc_distance(query, queries[j], pop_cost, push_cost)\n",
    "    return distances\n",
    "\n",
    "pop_cost = lambda x: x\n",
    "push_cost = lambda x: x\n",
    "\n",
    "def calc_distances_for_map(query_index: int):\n",
    "    return calc_distances_for(query_index, queries, calc_distance_keeping_constraint_order, pop_cost, push_cost)"
   ]
  },
  {
   "cell_type": "code",
   "execution_count": 5,
   "metadata": {},
   "outputs": [
    {
     "name": "stderr",
     "output_type": "stream",
     "text": [
      "100%|██████████| 4330/4330 [00:51<00:00, 84.67it/s] \n"
     ]
    }
   ],
   "source": [
    "with ProcessPoolExecutor() as executor:\n",
    "    distances = list(tqdm(executor.map(calc_distances_for_map, range(len(queries))), total=len(queries)))\n",
    "\n",
    "common_prefix_lens = [[col[0] for col in row] for row in distances]\n",
    "distances = [[col[1] for col in row] for row in distances]"
   ]
  },
  {
   "cell_type": "code",
   "execution_count": 6,
   "metadata": {},
   "outputs": [],
   "source": [
    "def get_tsp_circuit(distances):\n",
    "    import ortools.constraint_solver.pywrapcp as pywrapcp\n",
    "    from ortools.constraint_solver import routing_enums_pb2\n",
    "\n",
    "    manager = pywrapcp.RoutingIndexManager(len(distances), 1, 0)\n",
    "    routing = pywrapcp.RoutingModel(manager)\n",
    "\n",
    "    def distance_callback(from_index, to_index):\n",
    "        \"\"\"Returns the distance between the two nodes.\"\"\"\n",
    "        # Convert from routing variable Index to distance matrix NodeIndex.\n",
    "        from_node = manager.IndexToNode(from_index)\n",
    "        to_node = manager.IndexToNode(to_index)\n",
    "        return distances[from_node][to_node]\n",
    "\n",
    "    transit_callback_index = routing.RegisterTransitCallback(distance_callback)\n",
    "    routing.SetArcCostEvaluatorOfAllVehicles(transit_callback_index)\n",
    "    search_parameters = pywrapcp.DefaultRoutingSearchParameters()\n",
    "    search_parameters.first_solution_strategy = (\n",
    "        routing_enums_pb2.FirstSolutionStrategy.AUTOMATIC)\n",
    "\n",
    "    def print_solution(manager, routing, solution):\n",
    "        \"\"\"Prints solution on console.\"\"\"\n",
    "        print('Objective: {} miles'.format(solution.ObjectiveValue()))\n",
    "        index = routing.Start(0)\n",
    "        plan_output = 'Route for vehicle 0:\\n'\n",
    "        route_distance = 0\n",
    "        while not routing.IsEnd(index):\n",
    "            plan_output += ' {} ->'.format(manager.IndexToNode(index))\n",
    "            previous_index = index\n",
    "            index = solution.Value(routing.NextVar(index))\n",
    "            route_distance += routing.GetArcCostForVehicle(previous_index, index, 0)\n",
    "        plan_output += ' {}\\n'.format(manager.IndexToNode(index))\n",
    "        print(plan_output)\n",
    "        plan_output += 'Route distance: {}miles\\n'.format(route_distance)\n",
    "\n",
    "    def get_vector(manager, routing, solution):\n",
    "        index = routing.Start(0)\n",
    "        route = []\n",
    "        while not routing.IsEnd(index):\n",
    "            route.append(manager.IndexToNode(index))\n",
    "            index = solution.Value(routing.NextVar(index))\n",
    "\n",
    "        return route\n",
    "\n",
    "    solution = routing.SolveWithParameters(search_parameters)\n",
    "    # if solution:\n",
    "    #     print_solution(manager, routing, solution)\n",
    "\n",
    "    return get_vector(manager, routing, solution)"
   ]
  },
  {
   "cell_type": "code",
   "execution_count": 7,
   "metadata": {},
   "outputs": [],
   "source": [
    "best_case = get_tsp_circuit(distances)"
   ]
  },
  {
   "cell_type": "code",
   "execution_count": 8,
   "metadata": {},
   "outputs": [],
   "source": [
    "from typing import List\n",
    "\n",
    "\n",
    "def check_by_resetting(queries, ordering: List[int], common_prefix_lens, enable_direct_subset_answer=False, solver=None):\n",
    "    solver = solver if solver is not None else Solver()\n",
    "    results = {}\n",
    "    \n",
    "    total_time = 0.0\n",
    "    \n",
    "    for index in tqdm(ordering):\n",
    "        query = queries[index]\n",
    "        start_time = time.perf_counter()\n",
    "        result = solver.check(query)\n",
    "        end_time = time.perf_counter()\n",
    "        total_time += end_time - start_time\n",
    "        results[index] = result\n",
    "    \n",
    "    return (results, solver.statistics(), total_time, (0, 0, 0))\n",
    "\n",
    "def check_dummy_incrementally(queries, ordering: List[int], common_prefix_lens, enable_direct_subset_answer=False, solver=None):\n",
    "    solver = solver if solver is not None else Solver()\n",
    "    results = {}\n",
    "\n",
    "    last_query = []\n",
    "\n",
    "    total_time = 0.0\n",
    "    total_pops = 0\n",
    "    total_pushes = 0\n",
    "\n",
    "    for index in tqdm(ordering):\n",
    "        if index in results:\n",
    "            print(\"Warning: Skipping repeated query. Query index =\", index)\n",
    "            continue\n",
    "        query = queries[index]\n",
    "        \n",
    "        i = 0\n",
    "        while i < len(last_query) and i < len(query) and last_query[i].eq(query[i]):\n",
    "            i += 1\n",
    "\n",
    "        start_time = time.perf_counter()\n",
    "        \n",
    "        solver.pop(len(last_query) - i)\n",
    "        total_pops += len(last_query) - i\n",
    "\n",
    "        for i in range(i, len(query)):\n",
    "            solver.push()\n",
    "            total_pushes += 1\n",
    "            solver.add(query[i])\n",
    "        \n",
    "        result = solver.check()\n",
    "        end_time = time.perf_counter()\n",
    "        total_time += end_time - start_time\n",
    "        results[index] = result\n",
    "\n",
    "        last_query = query\n",
    "    \n",
    "    return (results, solver.statistics(), total_time, (total_pushes, total_pops, sum(len(q) for q in queries)))\n",
    "\n",
    "def check_incrementally(queries, ordering: List[int], common_prefix_lens, enable_direct_subset_answer=False, solver=None):\n",
    "    solver = solver if solver is not None else Solver()\n",
    "    results = {}\n",
    "\n",
    "    queries = queries + [queries[ordering[-1]]]\n",
    "    ordering = ordering + [ordering[-1]]\n",
    "    \n",
    "    last_index = len(queries) - 1\n",
    "    current_stack_count = 0\n",
    "\n",
    "    total_time = 0.0\n",
    "    total_pops = 0\n",
    "    total_pushes = 0\n",
    "\n",
    "    for index, next_index in tqdm(zip(ordering[:len(ordering) - 1], ordering[1:]), total=len(queries) - 1):\n",
    "        if index in results:\n",
    "            print(\"Warning: Skipping repeated query. Query index =\", index)\n",
    "            continue\n",
    "        # last_query = queries[last_index]\n",
    "        query = queries[index]\n",
    "        \n",
    "        next_prefix_len = common_prefix_lens[index][next_index]\n",
    "\n",
    "        start_time = time.perf_counter()\n",
    "        if enable_direct_subset_answer and current_stack_count == len(query) and results[last_index] == sat:\n",
    "            results[index] = sat\n",
    "        else:\n",
    "            if current_stack_count < next_prefix_len:\n",
    "                for i in range(current_stack_count, next_prefix_len):\n",
    "                    solver.push()\n",
    "                    solver.add(query[i])\n",
    "                total_pushes += next_prefix_len - current_stack_count\n",
    "                current_stack_count = next_prefix_len\n",
    "\n",
    "            solver.push()\n",
    "            total_pushes += 1\n",
    "            solver.add(query[current_stack_count:])\n",
    "            \n",
    "            result = solver.check()\n",
    "\n",
    "            solver.pop()\n",
    "            total_pops +=1\n",
    "                        \n",
    "            results[index] = result\n",
    "        \n",
    "        if current_stack_count > next_prefix_len:\n",
    "            solver.pop(current_stack_count - next_prefix_len)\n",
    "            total_pops += current_stack_count - next_prefix_len\n",
    "            current_stack_count = next_prefix_len\n",
    "\n",
    "        end_time = time.perf_counter()\n",
    "        total_time += end_time - start_time\n",
    "        last_index = index\n",
    "    \n",
    "    return (results, solver.statistics(), total_time, (total_pushes, total_pops, sum(len(q) for q in queries)))"
   ]
  },
  {
   "cell_type": "code",
   "execution_count": 14,
   "metadata": {},
   "outputs": [
    {
     "name": "stderr",
     "output_type": "stream",
     "text": [
      "100%|██████████| 4302/4302 [00:14<00:00, 292.31it/s]"
     ]
    },
    {
     "name": "stdout",
     "output_type": "stream",
     "text": [
      "Spent time: 14.654909132630564\n"
     ]
    },
    {
     "name": "stderr",
     "output_type": "stream",
     "text": [
      "\n"
     ]
    }
   ],
   "source": [
    "# Base case\n",
    "base_results, statistics, total_time, _ = check_by_resetting(queries, list(range(len(queries))), common_prefix_lens)\n",
    "print(\"Spent time:\", total_time)"
   ]
  },
  {
   "cell_type": "code",
   "execution_count": 15,
   "metadata": {},
   "outputs": [
    {
     "name": "stderr",
     "output_type": "stream",
     "text": [
      "100%|██████████| 4302/4302 [00:15<00:00, 282.27it/s] "
     ]
    },
    {
     "name": "stdout",
     "output_type": "stream",
     "text": [
      "11.20084131823387\n",
      "334036 334043 679921\n"
     ]
    },
    {
     "name": "stderr",
     "output_type": "stream",
     "text": [
      "\n"
     ]
    }
   ],
   "source": [
    "best_results, statistics, total_time, (total_pushes, total_pops, total_constraints) = check_dummy_incrementally(queries, list(range(len(queries))), common_prefix_lens)\n",
    "assert(base_results == best_results)\n",
    "print(total_time)\n",
    "print(total_pops, total_pushes, total_constraints)"
   ]
  },
  {
   "cell_type": "code",
   "execution_count": 16,
   "metadata": {},
   "outputs": [
    {
     "name": "stderr",
     "output_type": "stream",
     "text": [
      "100%|██████████| 4302/4302 [00:08<00:00, 481.63it/s] "
     ]
    },
    {
     "name": "stdout",
     "output_type": "stream",
     "text": [
      "8.891306128469296\n",
      "149101 149108 679928\n"
     ]
    },
    {
     "name": "stderr",
     "output_type": "stream",
     "text": [
      "\n"
     ]
    }
   ],
   "source": [
    "best_results, statistics, total_time, (total_pushes, total_pops, total_constraints) = check_incrementally(queries, list(range(len(queries))), common_prefix_lens)\n",
    "assert(base_results == best_results)\n",
    "print(total_time)\n",
    "print(total_pops, total_pushes, total_constraints)"
   ]
  },
  {
   "cell_type": "code",
   "execution_count": 9,
   "metadata": {},
   "outputs": [
    {
     "name": "stderr",
     "output_type": "stream",
     "text": [
      "100%|██████████| 4330/4330 [19:17<00:00,  3.74it/s]   \n"
     ]
    },
    {
     "ename": "NameError",
     "evalue": "name 'base_results' is not defined",
     "output_type": "error",
     "traceback": [
      "\u001b[0;31m---------------------------------------------------------------------------\u001b[0m",
      "\u001b[0;31mNameError\u001b[0m                                 Traceback (most recent call last)",
      "Cell \u001b[0;32mIn [9], line 3\u001b[0m\n\u001b[1;32m      1\u001b[0m \u001b[39m# Best case\u001b[39;00m\n\u001b[1;32m      2\u001b[0m best_results, statistics, total_time, (total_pushes, total_pops, total_constraints) \u001b[39m=\u001b[39m check_incrementally(queries, best_case, common_prefix_lens, \u001b[39mTrue\u001b[39;00m)\n\u001b[0;32m----> 3\u001b[0m \u001b[39massert\u001b[39;00m(base_results \u001b[39m==\u001b[39m best_results)\n\u001b[1;32m      4\u001b[0m \u001b[39mprint\u001b[39m(total_time)\n\u001b[1;32m      5\u001b[0m \u001b[39mprint\u001b[39m(total_pops, total_pushes, total_constraints)\n",
      "\u001b[0;31mNameError\u001b[0m: name 'base_results' is not defined"
     ]
    }
   ],
   "source": [
    "# Best case\n",
    "best_results, statistics, total_time, (total_pushes, total_pops, total_constraints) = check_incrementally(queries, best_case, common_prefix_lens, True)\n",
    "assert(base_results == best_results)\n",
    "print(total_time)\n",
    "print(total_pops, total_pushes, total_constraints)"
   ]
  },
  {
   "cell_type": "code",
   "execution_count": 7,
   "metadata": {},
   "outputs": [],
   "source": [
    "\n",
    "def calc_distances():\n",
    "    with ProcessPoolExecutor() as executor:\n",
    "        distances = list(tqdm(executor.map(calc_distances_for_map, range(len(queries))), total=len(queries)))\n",
    "\n",
    "    common_prefix_lens = [[col[0] for col in row] for row in distances]\n",
    "    distances = [[col[1] for col in row] for row in distances]\n",
    "    return common_prefix_lens, distances\n",
    "\n",
    "def evaluate(name, enable_direct_subset_answer, output_suffix, repeat_count = 5, input_suffix = \".smt2\"):\n",
    "    # Using global because of pickling\n",
    "    global queries\n",
    "    queries = parse_queries_from_klee_smt2_dump(name + input_suffix)\n",
    "    print(f\"Evaluating {name} with {len(queries)} queries.\")\n",
    "\n",
    "    print(\"Calculating distances ...\")\n",
    "    common_prefix_lens, distances = calc_distances()\n",
    "    \n",
    "    original_ordering = list(range(len(queries)))\n",
    "    print(\"Finding TSP ordering ...\")\n",
    "    tsp_ordering = get_tsp_circuit(distances)\n",
    "    \n",
    "    cases = {\n",
    "        \"res_original\": (check_by_resetting, original_ordering),\n",
    "        \"dinc_original\": (check_dummy_incrementally, original_ordering),\n",
    "        \"incr_original\": (check_incrementally, original_ordering),\n",
    "        \"incr_tsp\": (check_incrementally, tsp_ordering)\n",
    "    }\n",
    "\n",
    "    results = {}\n",
    "    check_results = []\n",
    "    for (key, (check, ordering)) in cases.items():\n",
    "        print(f\"Testing {key} for {repeat_count} times ...\")\n",
    "\n",
    "        times = []\n",
    "        for i in range(repeat_count):\n",
    "            check_result, statistics, total_time, (total_pushes, total_pops, total_constraints) = check(queries, ordering, common_prefix_lens, enable_direct_subset_answer)\n",
    "            times.append(total_time)\n",
    "        check_results.append(check_result)\n",
    "        print(total_time)\n",
    "        \n",
    "        results[key] = {\n",
    "            \"times\": times,\n",
    "            \"statistics\": str(statistics),\n",
    "            \"check_result\": {key: str(value) for key, value in check_results[-1].items()},\n",
    "            \"ordering\": ordering,\n",
    "            \"total_pushes\": total_pushes,\n",
    "            \"total_pops\": total_pops,\n",
    "            \"total_constraints\": total_constraints,\n",
    "        }\n",
    "    \n",
    "    assert all(result == check_results[0] for result in check_results)\n",
    "    \n",
    "    import json\n",
    "    file_name = f\"{name}_{output_suffix}\"\n",
    "    while os.path.exists(f\"{file_name}.json\"):\n",
    "        file_name += \"_new\"\n",
    "    with open(f\"{file_name}.json\", \"a\") as f:\n",
    "        json.dump(results, f)\n",
    "\n",
    "    print(\"Result saved to:\", file_name)\n",
    "\n",
    "def zero_cost(x):\n",
    "    return 0\n",
    "\n",
    "def identity_cost(x):\n",
    "    return x\n",
    "\n",
    "def exp_cost(x):\n",
    "    return 2 ** x"
   ]
  },
  {
   "cell_type": "code",
   "execution_count": 20,
   "metadata": {},
   "outputs": [
    {
     "name": "stdout",
     "output_type": "stream",
     "text": [
      "Evaluating echo-cache with 4302 queries.\n",
      "Calculating distances ...\n"
     ]
    },
    {
     "name": "stderr",
     "output_type": "stream",
     "text": [
      "100%|██████████| 4302/4302 [00:28<00:00, 151.80it/s]\n"
     ]
    },
    {
     "name": "stdout",
     "output_type": "stream",
     "text": [
      "Finding TSP ordering ...\n",
      "Testing res_original for 5 times ...\n"
     ]
    },
    {
     "name": "stderr",
     "output_type": "stream",
     "text": [
      "100%|██████████| 4302/4302 [00:14<00:00, 295.44it/s] \n",
      "100%|██████████| 4302/4302 [00:14<00:00, 298.61it/s]\n",
      "100%|██████████| 4302/4302 [00:14<00:00, 304.60it/s]\n",
      "100%|██████████| 4302/4302 [00:14<00:00, 292.27it/s] \n",
      "100%|██████████| 4302/4302 [00:14<00:00, 305.47it/s]\n"
     ]
    },
    {
     "name": "stdout",
     "output_type": "stream",
     "text": [
      "14.026255590491928\n",
      "Testing dinc_original for 5 times ...\n"
     ]
    },
    {
     "name": "stderr",
     "output_type": "stream",
     "text": [
      "100%|██████████| 4302/4302 [00:15<00:00, 280.70it/s] \n",
      "100%|██████████| 4302/4302 [00:15<00:00, 279.12it/s] \n",
      "100%|██████████| 4302/4302 [00:15<00:00, 283.07it/s] \n",
      "100%|██████████| 4302/4302 [00:15<00:00, 281.22it/s] \n",
      "100%|██████████| 4302/4302 [00:15<00:00, 283.11it/s] \n"
     ]
    },
    {
     "name": "stdout",
     "output_type": "stream",
     "text": [
      "11.171767255640589\n",
      "Testing incr_original for 5 times ...\n"
     ]
    },
    {
     "name": "stderr",
     "output_type": "stream",
     "text": [
      "100%|██████████| 4302/4302 [00:09<00:00, 468.15it/s] \n",
      "100%|██████████| 4302/4302 [00:08<00:00, 481.71it/s] \n",
      "100%|██████████| 4302/4302 [00:09<00:00, 469.45it/s] \n",
      "100%|██████████| 4302/4302 [00:08<00:00, 483.93it/s] \n",
      "100%|██████████| 4302/4302 [00:08<00:00, 481.71it/s] \n"
     ]
    },
    {
     "name": "stdout",
     "output_type": "stream",
     "text": [
      "8.888555244426243\n",
      "Testing incr_tsp for 5 times ...\n"
     ]
    },
    {
     "name": "stderr",
     "output_type": "stream",
     "text": [
      "100%|██████████| 4302/4302 [00:08<00:00, 488.96it/s] \n",
      "100%|██████████| 4302/4302 [00:08<00:00, 499.99it/s] \n",
      "100%|██████████| 4302/4302 [00:08<00:00, 500.29it/s] \n",
      "100%|██████████| 4302/4302 [00:08<00:00, 486.08it/s] \n",
      "100%|██████████| 4302/4302 [00:08<00:00, 504.96it/s] \n"
     ]
    },
    {
     "name": "stdout",
     "output_type": "stream",
     "text": [
      "8.483179795206524\n",
      "Result saved to: echo-cache_direct_i_0\n",
      "Evaluating echo-nocache with 1808 queries.\n",
      "Calculating distances ...\n"
     ]
    },
    {
     "name": "stderr",
     "output_type": "stream",
     "text": [
      "100%|██████████| 1808/1808 [00:05<00:00, 319.70it/s]\n"
     ]
    },
    {
     "name": "stdout",
     "output_type": "stream",
     "text": [
      "Finding TSP ordering ...\n",
      "Testing res_original for 5 times ...\n"
     ]
    },
    {
     "name": "stderr",
     "output_type": "stream",
     "text": [
      "100%|██████████| 1808/1808 [00:06<00:00, 277.97it/s]\n",
      "100%|██████████| 1808/1808 [00:06<00:00, 266.54it/s]\n",
      "100%|██████████| 1808/1808 [00:06<00:00, 265.80it/s]\n",
      "100%|██████████| 1808/1808 [00:06<00:00, 279.05it/s]\n",
      "100%|██████████| 1808/1808 [00:06<00:00, 270.07it/s]\n"
     ]
    },
    {
     "name": "stdout",
     "output_type": "stream",
     "text": [
      "6.657283590524457\n",
      "Testing dinc_original for 5 times ...\n"
     ]
    },
    {
     "name": "stderr",
     "output_type": "stream",
     "text": [
      "100%|██████████| 1808/1808 [00:07<00:00, 246.41it/s]\n",
      "100%|██████████| 1808/1808 [00:07<00:00, 246.80it/s]\n",
      "100%|██████████| 1808/1808 [00:07<00:00, 245.18it/s]\n",
      "100%|██████████| 1808/1808 [00:07<00:00, 242.12it/s]\n",
      "100%|██████████| 1808/1808 [00:07<00:00, 242.47it/s]\n"
     ]
    },
    {
     "name": "stdout",
     "output_type": "stream",
     "text": [
      "5.622484887600876\n",
      "Testing incr_original for 5 times ...\n"
     ]
    },
    {
     "name": "stderr",
     "output_type": "stream",
     "text": [
      "100%|██████████| 1808/1808 [00:04<00:00, 410.59it/s]\n",
      "100%|██████████| 1808/1808 [00:04<00:00, 412.22it/s]\n",
      "100%|██████████| 1808/1808 [00:04<00:00, 395.07it/s]\n",
      "100%|██████████| 1808/1808 [00:04<00:00, 413.11it/s]\n",
      "100%|██████████| 1808/1808 [00:04<00:00, 413.85it/s]\n"
     ]
    },
    {
     "name": "stdout",
     "output_type": "stream",
     "text": [
      "4.350754255661741\n",
      "Testing incr_tsp for 5 times ...\n"
     ]
    },
    {
     "name": "stderr",
     "output_type": "stream",
     "text": [
      "100%|██████████| 1808/1808 [00:04<00:00, 429.07it/s]\n",
      "100%|██████████| 1808/1808 [00:04<00:00, 423.93it/s]\n",
      "100%|██████████| 1808/1808 [00:04<00:00, 411.75it/s]\n",
      "100%|██████████| 1808/1808 [00:04<00:00, 430.16it/s]\n",
      "100%|██████████| 1808/1808 [00:04<00:00, 429.01it/s]\n"
     ]
    },
    {
     "name": "stdout",
     "output_type": "stream",
     "text": [
      "4.193501448724419\n",
      "Result saved to: echo-nocache_direct_i_0\n",
      "Evaluating pwd-nocache with 1263 queries.\n",
      "Calculating distances ...\n"
     ]
    },
    {
     "name": "stderr",
     "output_type": "stream",
     "text": [
      "100%|██████████| 1263/1263 [00:03<00:00, 413.96it/s]\n"
     ]
    },
    {
     "name": "stdout",
     "output_type": "stream",
     "text": [
      "Finding TSP ordering ...\n",
      "Testing res_original for 5 times ...\n"
     ]
    },
    {
     "name": "stderr",
     "output_type": "stream",
     "text": [
      "100%|██████████| 1263/1263 [00:04<00:00, 254.24it/s]\n",
      "100%|██████████| 1263/1263 [00:04<00:00, 277.91it/s]\n",
      "100%|██████████| 1263/1263 [00:04<00:00, 265.11it/s]\n",
      "100%|██████████| 1263/1263 [00:04<00:00, 270.32it/s]\n",
      "100%|██████████| 1263/1263 [00:04<00:00, 258.76it/s]\n"
     ]
    },
    {
     "name": "stdout",
     "output_type": "stream",
     "text": [
      "4.862208322156221\n",
      "Testing dinc_original for 5 times ...\n"
     ]
    },
    {
     "name": "stderr",
     "output_type": "stream",
     "text": [
      "100%|██████████| 1263/1263 [00:05<00:00, 228.45it/s]\n",
      "100%|██████████| 1263/1263 [00:05<00:00, 227.44it/s]\n",
      "100%|██████████| 1263/1263 [00:05<00:00, 228.58it/s]\n",
      "100%|██████████| 1263/1263 [00:05<00:00, 228.76it/s]\n",
      "100%|██████████| 1263/1263 [00:05<00:00, 227.50it/s]\n"
     ]
    },
    {
     "name": "stdout",
     "output_type": "stream",
     "text": [
      "4.369650198845193\n",
      "Testing incr_original for 5 times ...\n"
     ]
    },
    {
     "name": "stderr",
     "output_type": "stream",
     "text": [
      "100%|██████████| 1263/1263 [00:03<00:00, 376.62it/s]\n",
      "100%|██████████| 1263/1263 [00:03<00:00, 371.49it/s]\n",
      "100%|██████████| 1263/1263 [00:03<00:00, 381.08it/s]\n",
      "100%|██████████| 1263/1263 [00:03<00:00, 358.09it/s]\n",
      "100%|██████████| 1263/1263 [00:03<00:00, 379.19it/s]\n"
     ]
    },
    {
     "name": "stdout",
     "output_type": "stream",
     "text": [
      "3.3168098003370687\n",
      "Testing incr_tsp for 5 times ...\n"
     ]
    },
    {
     "name": "stderr",
     "output_type": "stream",
     "text": [
      "100%|██████████| 1263/1263 [00:02<00:00, 421.87it/s]\n",
      "100%|██████████| 1263/1263 [00:03<00:00, 413.98it/s]\n",
      "100%|██████████| 1263/1263 [00:03<00:00, 420.06it/s]\n",
      "100%|██████████| 1263/1263 [00:03<00:00, 419.41it/s]\n",
      "100%|██████████| 1263/1263 [00:03<00:00, 392.59it/s]"
     ]
    },
    {
     "name": "stdout",
     "output_type": "stream",
     "text": [
      "3.2040559141896665\n",
      "Result saved to: pwd-nocache_direct_i_0\n",
      "Evaluating tail-cache with 41 queries.\n",
      "Calculating distances ...\n"
     ]
    },
    {
     "name": "stderr",
     "output_type": "stream",
     "text": [
      "\n",
      "100%|██████████| 41/41 [00:00<00:00, 7330.51it/s]\n"
     ]
    },
    {
     "name": "stdout",
     "output_type": "stream",
     "text": [
      "Finding TSP ordering ...\n",
      "Testing res_original for 5 times ...\n"
     ]
    },
    {
     "name": "stderr",
     "output_type": "stream",
     "text": [
      "100%|██████████| 41/41 [00:00<00:00, 5658.28it/s]\n",
      "100%|██████████| 41/41 [00:00<00:00, 6847.16it/s]\n",
      "100%|██████████| 41/41 [00:00<00:00, 7264.24it/s]\n",
      "100%|██████████| 41/41 [00:00<00:00, 7567.28it/s]\n",
      "100%|██████████| 41/41 [00:00<00:00, 6796.82it/s]\n"
     ]
    },
    {
     "name": "stdout",
     "output_type": "stream",
     "text": [
      "0.005918205832131207\n",
      "Testing dinc_original for 5 times ...\n"
     ]
    },
    {
     "name": "stderr",
     "output_type": "stream",
     "text": [
      "100%|██████████| 41/41 [00:00<00:00, 6440.93it/s]\n",
      "100%|██████████| 41/41 [00:00<00:00, 6406.14it/s]\n",
      "100%|██████████| 41/41 [00:00<00:00, 6072.69it/s]\n",
      "100%|██████████| 41/41 [00:00<00:00, 5506.10it/s]\n",
      "100%|██████████| 41/41 [00:00<00:00, 5483.27it/s]\n"
     ]
    },
    {
     "name": "stdout",
     "output_type": "stream",
     "text": [
      "0.0068123009987175465\n",
      "Testing incr_original for 5 times ...\n"
     ]
    },
    {
     "name": "stderr",
     "output_type": "stream",
     "text": [
      "100%|██████████| 41/41 [00:00<00:00, 5661.63it/s]\n",
      "100%|██████████| 41/41 [00:00<00:00, 6484.41it/s]\n",
      "100%|██████████| 41/41 [00:00<00:00, 6973.78it/s]\n",
      "100%|██████████| 41/41 [00:00<00:00, 7162.58it/s]\n",
      "100%|██████████| 41/41 [00:00<00:00, 6606.47it/s]\n"
     ]
    },
    {
     "name": "stdout",
     "output_type": "stream",
     "text": [
      "0.006109673297032714\n",
      "Testing incr_tsp for 5 times ...\n"
     ]
    },
    {
     "name": "stderr",
     "output_type": "stream",
     "text": [
      "100%|██████████| 41/41 [00:00<00:00, 6315.56it/s]\n",
      "100%|██████████| 41/41 [00:00<00:00, 6206.83it/s]\n",
      "100%|██████████| 41/41 [00:00<00:00, 5853.58it/s]\n",
      "100%|██████████| 41/41 [00:00<00:00, 5963.81it/s]\n",
      "100%|██████████| 41/41 [00:00<00:00, 7197.06it/s]"
     ]
    },
    {
     "name": "stdout",
     "output_type": "stream",
     "text": [
      "0.005599652649834752\n",
      "Result saved to: tail-cache_direct_i_0\n",
      "Evaluating tail-nocache with 41 queries.\n",
      "Calculating distances ...\n"
     ]
    },
    {
     "name": "stderr",
     "output_type": "stream",
     "text": [
      "\n",
      "100%|██████████| 41/41 [00:00<00:00, 4040.47it/s]\n"
     ]
    },
    {
     "name": "stdout",
     "output_type": "stream",
     "text": [
      "Finding TSP ordering ...\n",
      "Testing res_original for 5 times ...\n"
     ]
    },
    {
     "name": "stderr",
     "output_type": "stream",
     "text": [
      "100%|██████████| 41/41 [00:00<00:00, 5822.46it/s]\n",
      "100%|██████████| 41/41 [00:00<00:00, 7320.84it/s]\n",
      "100%|██████████| 41/41 [00:00<00:00, 5928.65it/s]\n",
      "100%|██████████| 41/41 [00:00<00:00, 7091.99it/s]\n",
      "100%|██████████| 41/41 [00:00<00:00, 7044.63it/s]\n"
     ]
    },
    {
     "name": "stdout",
     "output_type": "stream",
     "text": [
      "0.0057278459426015615\n",
      "Testing dinc_original for 5 times ...\n"
     ]
    },
    {
     "name": "stderr",
     "output_type": "stream",
     "text": [
      "100%|██████████| 41/41 [00:00<00:00, 6344.92it/s]\n",
      "100%|██████████| 41/41 [00:00<00:00, 6276.84it/s]\n",
      "100%|██████████| 41/41 [00:00<00:00, 5317.78it/s]\n",
      "100%|██████████| 41/41 [00:00<00:00, 6496.41it/s]\n",
      "100%|██████████| 41/41 [00:00<00:00, 6640.40it/s]\n"
     ]
    },
    {
     "name": "stdout",
     "output_type": "stream",
     "text": [
      "0.005537993158213794\n",
      "Testing incr_original for 5 times ...\n"
     ]
    },
    {
     "name": "stderr",
     "output_type": "stream",
     "text": [
      "100%|██████████| 41/41 [00:00<00:00, 7030.23it/s]\n",
      "100%|██████████| 41/41 [00:00<00:00, 7042.90it/s]\n",
      "100%|██████████| 41/41 [00:00<00:00, 7170.95it/s]\n",
      "100%|██████████| 41/41 [00:00<00:00, 5821.28it/s]\n",
      "100%|██████████| 41/41 [00:00<00:00, 7105.76it/s]\n"
     ]
    },
    {
     "name": "stdout",
     "output_type": "stream",
     "text": [
      "0.005668472032994032\n",
      "Testing incr_tsp for 5 times ...\n"
     ]
    },
    {
     "name": "stderr",
     "output_type": "stream",
     "text": [
      "100%|██████████| 41/41 [00:00<00:00, 7522.26it/s]\n",
      "100%|██████████| 41/41 [00:00<00:00, 7253.21it/s]\n",
      "100%|██████████| 41/41 [00:00<00:00, 7237.95it/s]\n",
      "100%|██████████| 41/41 [00:00<00:00, 7385.61it/s]\n",
      "100%|██████████| 41/41 [00:00<00:00, 7390.69it/s]"
     ]
    },
    {
     "name": "stdout",
     "output_type": "stream",
     "text": [
      "0.00544742145575583\n",
      "Result saved to: tail-nocache_direct_i_0\n"
     ]
    },
    {
     "name": "stderr",
     "output_type": "stream",
     "text": [
      "\n"
     ]
    },
    {
     "name": "stdout",
     "output_type": "stream",
     "text": [
      "Evaluating who-cache with 3090 queries.\n",
      "Calculating distances ...\n"
     ]
    },
    {
     "name": "stderr",
     "output_type": "stream",
     "text": [
      "100%|██████████| 3090/3090 [00:15<00:00, 196.75it/s]\n"
     ]
    },
    {
     "name": "stdout",
     "output_type": "stream",
     "text": [
      "Finding TSP ordering ...\n",
      "Testing res_original for 5 times ...\n"
     ]
    },
    {
     "name": "stderr",
     "output_type": "stream",
     "text": [
      "100%|██████████| 3090/3090 [00:13<00:00, 229.03it/s]\n",
      "100%|██████████| 3090/3090 [00:13<00:00, 225.68it/s]\n",
      "100%|██████████| 3090/3090 [00:14<00:00, 217.67it/s]\n",
      "100%|██████████| 3090/3090 [00:13<00:00, 222.18it/s]\n",
      "100%|██████████| 3090/3090 [00:13<00:00, 231.39it/s]\n"
     ]
    },
    {
     "name": "stdout",
     "output_type": "stream",
     "text": [
      "13.29454369226005\n",
      "Testing dinc_original for 5 times ...\n"
     ]
    },
    {
     "name": "stderr",
     "output_type": "stream",
     "text": [
      "100%|██████████| 3090/3090 [00:15<00:00, 202.68it/s]\n",
      "100%|██████████| 3090/3090 [00:15<00:00, 198.96it/s]\n",
      "100%|██████████| 3090/3090 [00:15<00:00, 201.71it/s]\n",
      "100%|██████████| 3090/3090 [00:15<00:00, 202.75it/s]\n",
      "100%|██████████| 3090/3090 [00:15<00:00, 202.55it/s]\n"
     ]
    },
    {
     "name": "stdout",
     "output_type": "stream",
     "text": [
      "11.452397877699696\n",
      "Testing incr_original for 5 times ...\n"
     ]
    },
    {
     "name": "stderr",
     "output_type": "stream",
     "text": [
      "100%|██████████| 3090/3090 [00:09<00:00, 341.42it/s]\n",
      "100%|██████████| 3090/3090 [00:09<00:00, 340.45it/s]\n",
      "100%|██████████| 3090/3090 [00:09<00:00, 333.87it/s]\n",
      "100%|██████████| 3090/3090 [00:08<00:00, 344.00it/s]\n",
      "100%|██████████| 3090/3090 [00:09<00:00, 333.96it/s]\n"
     ]
    },
    {
     "name": "stdout",
     "output_type": "stream",
     "text": [
      "9.212583578424528\n",
      "Testing incr_tsp for 5 times ...\n"
     ]
    },
    {
     "name": "stderr",
     "output_type": "stream",
     "text": [
      "100%|██████████| 3090/3090 [00:08<00:00, 352.27it/s]\n",
      "100%|██████████| 3090/3090 [00:08<00:00, 350.09it/s]\n",
      "100%|██████████| 3090/3090 [00:09<00:00, 341.81it/s]\n",
      "100%|██████████| 3090/3090 [00:08<00:00, 353.08it/s]\n",
      "100%|██████████| 3090/3090 [00:08<00:00, 344.69it/s]\n"
     ]
    },
    {
     "name": "stdout",
     "output_type": "stream",
     "text": [
      "8.92458089592401\n",
      "Result saved to: who-cache_direct_i_0\n",
      "Evaluating who-nocache with 2296 queries.\n",
      "Calculating distances ...\n"
     ]
    },
    {
     "name": "stderr",
     "output_type": "stream",
     "text": [
      "100%|██████████| 2296/2296 [00:08<00:00, 268.39it/s]\n"
     ]
    },
    {
     "name": "stdout",
     "output_type": "stream",
     "text": [
      "Finding TSP ordering ...\n",
      "Testing res_original for 5 times ...\n"
     ]
    },
    {
     "name": "stderr",
     "output_type": "stream",
     "text": [
      "100%|██████████| 2296/2296 [00:09<00:00, 245.72it/s]\n",
      "100%|██████████| 2296/2296 [00:09<00:00, 243.06it/s]\n",
      "100%|██████████| 2296/2296 [00:09<00:00, 245.09it/s]\n",
      "100%|██████████| 2296/2296 [00:09<00:00, 246.60it/s]\n",
      "100%|██████████| 2296/2296 [00:09<00:00, 237.93it/s]\n"
     ]
    },
    {
     "name": "stdout",
     "output_type": "stream",
     "text": [
      "9.612696507479995\n",
      "Testing dinc_original for 5 times ...\n"
     ]
    },
    {
     "name": "stderr",
     "output_type": "stream",
     "text": [
      "100%|██████████| 2296/2296 [00:10<00:00, 215.17it/s]\n",
      "100%|██████████| 2296/2296 [00:10<00:00, 214.97it/s]\n",
      "100%|██████████| 2296/2296 [00:10<00:00, 215.71it/s]\n",
      "100%|██████████| 2296/2296 [00:10<00:00, 215.52it/s]\n",
      "100%|██████████| 2296/2296 [00:10<00:00, 215.15it/s]\n"
     ]
    },
    {
     "name": "stdout",
     "output_type": "stream",
     "text": [
      "8.02816677314695\n",
      "Testing incr_original for 5 times ...\n"
     ]
    },
    {
     "name": "stderr",
     "output_type": "stream",
     "text": [
      "100%|██████████| 2296/2296 [00:06<00:00, 353.30it/s]\n",
      "100%|██████████| 2296/2296 [00:06<00:00, 364.81it/s]\n",
      "100%|██████████| 2296/2296 [00:06<00:00, 364.23it/s]\n",
      "100%|██████████| 2296/2296 [00:06<00:00, 352.97it/s]\n",
      "100%|██████████| 2296/2296 [00:06<00:00, 363.72it/s]\n"
     ]
    },
    {
     "name": "stdout",
     "output_type": "stream",
     "text": [
      "6.2878601984120905\n",
      "Testing incr_tsp for 5 times ...\n"
     ]
    },
    {
     "name": "stderr",
     "output_type": "stream",
     "text": [
      "100%|██████████| 2296/2296 [00:06<00:00, 377.80it/s]\n",
      "100%|██████████| 2296/2296 [00:06<00:00, 364.67it/s]\n",
      "100%|██████████| 2296/2296 [00:06<00:00, 376.33it/s]\n",
      "100%|██████████| 2296/2296 [00:06<00:00, 376.99it/s]\n",
      "100%|██████████| 2296/2296 [00:06<00:00, 377.84it/s]"
     ]
    },
    {
     "name": "stdout",
     "output_type": "stream",
     "text": [
      "6.0537416390143335\n",
      "Result saved to: who-nocache_direct_i_0\n"
     ]
    },
    {
     "name": "stderr",
     "output_type": "stream",
     "text": [
      "\n"
     ]
    }
   ],
   "source": [
    "push_cost = identity_cost\n",
    "pop_cost = zero_cost\n",
    "evaluate(\"echo-cache\", True, \"direct_i_0\")\n",
    "evaluate(\"echo-nocache\", True, \"direct_i_0\")\n",
    "evaluate(\"pwd-nocache\", True, \"direct_i_0\")\n",
    "evaluate(\"tail-cache\", True, \"direct_i_0\")\n",
    "evaluate(\"tail-nocache\", True, \"direct_i_0\")\n",
    "evaluate(\"who-cache\", True, \"direct_i_0\")\n",
    "evaluate(\"who-nocache\", True, \"direct_i_0\")"
   ]
  },
  {
   "cell_type": "code",
   "execution_count": 24,
   "metadata": {},
   "outputs": [
    {
     "name": "stdout",
     "output_type": "stream",
     "text": [
      "Evaluating echo-cache with 4302 queries.\n",
      "Calculating distances ...\n"
     ]
    },
    {
     "name": "stderr",
     "output_type": "stream",
     "text": [
      "100%|██████████| 4302/4302 [00:29<00:00, 143.97it/s]\n"
     ]
    },
    {
     "name": "stdout",
     "output_type": "stream",
     "text": [
      "Finding TSP ordering ...\n",
      "Testing res_original for 5 times ...\n"
     ]
    },
    {
     "name": "stderr",
     "output_type": "stream",
     "text": [
      "100%|██████████| 4302/4302 [00:14<00:00, 297.31it/s]\n",
      "100%|██████████| 4302/4302 [00:14<00:00, 296.97it/s]\n",
      "100%|██████████| 4302/4302 [00:14<00:00, 292.87it/s]\n",
      "100%|██████████| 4302/4302 [00:14<00:00, 297.54it/s]\n",
      "100%|██████████| 4302/4302 [00:13<00:00, 307.83it/s]\n"
     ]
    },
    {
     "name": "stdout",
     "output_type": "stream",
     "text": [
      "13.913417263887823\n",
      "Testing dinc_original for 5 times ...\n"
     ]
    },
    {
     "name": "stderr",
     "output_type": "stream",
     "text": [
      "100%|██████████| 4302/4302 [00:15<00:00, 280.46it/s] \n",
      "100%|██████████| 4302/4302 [00:15<00:00, 281.48it/s] \n",
      "100%|██████████| 4302/4302 [00:15<00:00, 281.47it/s] \n",
      "100%|██████████| 4302/4302 [00:15<00:00, 282.07it/s] \n",
      "100%|██████████| 4302/4302 [00:15<00:00, 281.89it/s] \n"
     ]
    },
    {
     "name": "stdout",
     "output_type": "stream",
     "text": [
      "11.211745166801848\n",
      "Testing incr_original for 5 times ...\n"
     ]
    },
    {
     "name": "stderr",
     "output_type": "stream",
     "text": [
      "100%|██████████| 4302/4302 [00:08<00:00, 484.85it/s] \n",
      "100%|██████████| 4302/4302 [00:08<00:00, 483.35it/s] \n",
      "100%|██████████| 4302/4302 [00:08<00:00, 478.81it/s] \n",
      "100%|██████████| 4302/4302 [00:09<00:00, 477.78it/s] \n",
      "100%|██████████| 4302/4302 [00:08<00:00, 479.38it/s] \n"
     ]
    },
    {
     "name": "stdout",
     "output_type": "stream",
     "text": [
      "8.931709839380346\n",
      "Testing incr_tsp for 5 times ...\n"
     ]
    },
    {
     "name": "stderr",
     "output_type": "stream",
     "text": [
      "100%|██████████| 4302/4302 [00:08<00:00, 480.51it/s]\n",
      "100%|██████████| 4302/4302 [00:08<00:00, 478.88it/s]\n",
      "100%|██████████| 4302/4302 [00:08<00:00, 478.79it/s]\n",
      "100%|██████████| 4302/4302 [00:08<00:00, 481.14it/s]\n",
      "100%|██████████| 4302/4302 [00:08<00:00, 478.93it/s]\n"
     ]
    },
    {
     "name": "stdout",
     "output_type": "stream",
     "text": [
      "8.94607498170808\n",
      "Result saved to: echo-cache_direct_e_0\n",
      "Evaluating echo-nocache with 1808 queries.\n",
      "Calculating distances ...\n"
     ]
    },
    {
     "name": "stderr",
     "output_type": "stream",
     "text": [
      "100%|██████████| 1808/1808 [00:05<00:00, 317.36it/s]\n"
     ]
    },
    {
     "name": "stdout",
     "output_type": "stream",
     "text": [
      "Finding TSP ordering ...\n",
      "Testing res_original for 5 times ...\n"
     ]
    },
    {
     "name": "stderr",
     "output_type": "stream",
     "text": [
      "100%|██████████| 1808/1808 [00:06<00:00, 278.18it/s]\n",
      "100%|██████████| 1808/1808 [00:06<00:00, 274.06it/s]\n",
      "100%|██████████| 1808/1808 [00:06<00:00, 272.01it/s]\n",
      "100%|██████████| 1808/1808 [00:06<00:00, 276.24it/s]\n",
      "100%|██████████| 1808/1808 [00:06<00:00, 274.81it/s]\n"
     ]
    },
    {
     "name": "stdout",
     "output_type": "stream",
     "text": [
      "6.550686985021457\n",
      "Testing dinc_original for 5 times ...\n"
     ]
    },
    {
     "name": "stderr",
     "output_type": "stream",
     "text": [
      "100%|██████████| 1808/1808 [00:07<00:00, 241.87it/s]\n",
      "100%|██████████| 1808/1808 [00:07<00:00, 236.14it/s]\n",
      "100%|██████████| 1808/1808 [00:07<00:00, 242.07it/s]\n",
      "100%|██████████| 1808/1808 [00:07<00:00, 241.77it/s]\n",
      "100%|██████████| 1808/1808 [00:07<00:00, 240.10it/s]\n"
     ]
    },
    {
     "name": "stdout",
     "output_type": "stream",
     "text": [
      "5.686424399493262\n",
      "Testing incr_original for 5 times ...\n"
     ]
    },
    {
     "name": "stderr",
     "output_type": "stream",
     "text": [
      "100%|██████████| 1808/1808 [00:04<00:00, 405.21it/s]\n",
      "100%|██████████| 1808/1808 [00:04<00:00, 407.41it/s]\n",
      "100%|██████████| 1808/1808 [00:04<00:00, 405.30it/s]\n",
      "100%|██████████| 1808/1808 [00:04<00:00, 405.62it/s]\n",
      "100%|██████████| 1808/1808 [00:04<00:00, 403.81it/s]\n"
     ]
    },
    {
     "name": "stdout",
     "output_type": "stream",
     "text": [
      "4.452398421708494\n",
      "Testing incr_tsp for 5 times ...\n"
     ]
    },
    {
     "name": "stderr",
     "output_type": "stream",
     "text": [
      "100%|██████████| 1808/1808 [00:04<00:00, 407.03it/s]\n",
      "100%|██████████| 1808/1808 [00:04<00:00, 395.47it/s]\n",
      "100%|██████████| 1808/1808 [00:04<00:00, 400.21it/s]\n",
      "100%|██████████| 1808/1808 [00:04<00:00, 409.13it/s]\n",
      "100%|██████████| 1808/1808 [00:04<00:00, 404.43it/s]\n"
     ]
    },
    {
     "name": "stdout",
     "output_type": "stream",
     "text": [
      "4.448428304633126\n",
      "Result saved to: echo-nocache_direct_e_0\n",
      "Evaluating pwd-nocache with 1263 queries.\n",
      "Calculating distances ...\n"
     ]
    },
    {
     "name": "stderr",
     "output_type": "stream",
     "text": [
      "100%|██████████| 1263/1263 [00:03<00:00, 406.80it/s]\n"
     ]
    },
    {
     "name": "stdout",
     "output_type": "stream",
     "text": [
      "Finding TSP ordering ...\n",
      "Testing res_original for 5 times ...\n"
     ]
    },
    {
     "name": "stderr",
     "output_type": "stream",
     "text": [
      "100%|██████████| 1263/1263 [00:04<00:00, 263.52it/s]\n",
      "100%|██████████| 1263/1263 [00:04<00:00, 261.34it/s]\n",
      "100%|██████████| 1263/1263 [00:04<00:00, 263.20it/s]\n",
      "100%|██████████| 1263/1263 [00:04<00:00, 265.43it/s]\n",
      "100%|██████████| 1263/1263 [00:04<00:00, 266.04it/s]\n"
     ]
    },
    {
     "name": "stdout",
     "output_type": "stream",
     "text": [
      "4.726719647529535\n",
      "Testing dinc_original for 5 times ...\n"
     ]
    },
    {
     "name": "stderr",
     "output_type": "stream",
     "text": [
      "100%|██████████| 1263/1263 [00:05<00:00, 221.70it/s]\n",
      "100%|██████████| 1263/1263 [00:05<00:00, 222.17it/s]\n",
      "100%|██████████| 1263/1263 [00:05<00:00, 222.42it/s]\n",
      "100%|██████████| 1263/1263 [00:05<00:00, 223.44it/s]\n",
      "100%|██████████| 1263/1263 [00:05<00:00, 218.95it/s]\n"
     ]
    },
    {
     "name": "stdout",
     "output_type": "stream",
     "text": [
      "4.5489947410533205\n",
      "Testing incr_original for 5 times ...\n"
     ]
    },
    {
     "name": "stderr",
     "output_type": "stream",
     "text": [
      "100%|██████████| 1263/1263 [00:03<00:00, 376.36it/s]\n",
      "100%|██████████| 1263/1263 [00:03<00:00, 370.02it/s]\n",
      "100%|██████████| 1263/1263 [00:03<00:00, 373.86it/s]\n",
      "100%|██████████| 1263/1263 [00:03<00:00, 369.23it/s]\n",
      "100%|██████████| 1263/1263 [00:03<00:00, 367.88it/s]\n"
     ]
    },
    {
     "name": "stdout",
     "output_type": "stream",
     "text": [
      "3.418895639711991\n",
      "Testing incr_tsp for 5 times ...\n"
     ]
    },
    {
     "name": "stderr",
     "output_type": "stream",
     "text": [
      "100%|██████████| 1263/1263 [00:03<00:00, 376.56it/s]\n",
      "100%|██████████| 1263/1263 [00:03<00:00, 368.20it/s]\n",
      "100%|██████████| 1263/1263 [00:03<00:00, 370.98it/s]\n",
      "100%|██████████| 1263/1263 [00:03<00:00, 373.79it/s]\n",
      "100%|██████████| 1263/1263 [00:03<00:00, 372.43it/s]\n"
     ]
    },
    {
     "name": "stdout",
     "output_type": "stream",
     "text": [
      "3.3764592924853787\n",
      "Result saved to: pwd-nocache_direct_e_0\n",
      "Evaluating tail-cache with 41 queries.\n",
      "Calculating distances ...\n"
     ]
    },
    {
     "name": "stderr",
     "output_type": "stream",
     "text": [
      "100%|██████████| 41/41 [00:00<00:00, 4925.15it/s]\n"
     ]
    },
    {
     "name": "stdout",
     "output_type": "stream",
     "text": [
      "Finding TSP ordering ...\n",
      "Testing res_original for 5 times ...\n"
     ]
    },
    {
     "name": "stderr",
     "output_type": "stream",
     "text": [
      "100%|██████████| 41/41 [00:00<00:00, 5407.07it/s]\n",
      "100%|██████████| 41/41 [00:00<00:00, 6906.56it/s]\n",
      "100%|██████████| 41/41 [00:00<00:00, 6670.80it/s]\n",
      "100%|██████████| 41/41 [00:00<00:00, 6386.40it/s]\n",
      "100%|██████████| 41/41 [00:00<00:00, 6539.89it/s]\n"
     ]
    },
    {
     "name": "stdout",
     "output_type": "stream",
     "text": [
      "0.006178823998197913\n",
      "Testing dinc_original for 5 times ...\n"
     ]
    },
    {
     "name": "stderr",
     "output_type": "stream",
     "text": [
      "100%|██████████| 41/41 [00:00<00:00, 5947.93it/s]\n",
      "100%|██████████| 41/41 [00:00<00:00, 5939.91it/s]\n",
      "100%|██████████| 41/41 [00:00<00:00, 5714.12it/s]\n",
      "100%|██████████| 41/41 [00:00<00:00, 5822.27it/s]\n",
      "100%|██████████| 41/41 [00:00<00:00, 5606.26it/s]\n"
     ]
    },
    {
     "name": "stdout",
     "output_type": "stream",
     "text": [
      "0.00654084119014442\n",
      "Testing incr_original for 5 times ...\n"
     ]
    },
    {
     "name": "stderr",
     "output_type": "stream",
     "text": [
      "100%|██████████| 41/41 [00:00<00:00, 6825.15it/s]\n",
      "100%|██████████| 41/41 [00:00<00:00, 5905.85it/s]\n",
      "100%|██████████| 41/41 [00:00<00:00, 7211.54it/s]\n",
      "100%|██████████| 41/41 [00:00<00:00, 6997.62it/s]\n",
      "100%|██████████| 41/41 [00:00<00:00, 3471.76it/s]\n"
     ]
    },
    {
     "name": "stdout",
     "output_type": "stream",
     "text": [
      "0.011657211114652455\n",
      "Testing incr_tsp for 5 times ...\n"
     ]
    },
    {
     "name": "stderr",
     "output_type": "stream",
     "text": [
      "100%|██████████| 41/41 [00:00<00:00, 7111.93it/s]\n",
      "100%|██████████| 41/41 [00:00<00:00, 6936.93it/s]\n",
      "100%|██████████| 41/41 [00:00<00:00, 7223.66it/s]\n",
      "100%|██████████| 41/41 [00:00<00:00, 7142.06it/s]\n",
      "100%|██████████| 41/41 [00:00<00:00, 7431.25it/s]"
     ]
    },
    {
     "name": "stdout",
     "output_type": "stream",
     "text": [
      "0.005432032863609493\n",
      "Result saved to: tail-cache_direct_e_0\n",
      "Evaluating tail-nocache with 41 queries.\n",
      "Calculating distances ...\n"
     ]
    },
    {
     "name": "stderr",
     "output_type": "stream",
     "text": [
      "\n",
      "100%|██████████| 41/41 [00:00<00:00, 5764.30it/s]\n"
     ]
    },
    {
     "name": "stdout",
     "output_type": "stream",
     "text": [
      "Finding TSP ordering ...\n",
      "Testing res_original for 5 times ...\n"
     ]
    },
    {
     "name": "stderr",
     "output_type": "stream",
     "text": [
      "100%|██████████| 41/41 [00:00<00:00, 5278.77it/s]\n",
      "100%|██████████| 41/41 [00:00<00:00, 6984.54it/s]\n",
      "100%|██████████| 41/41 [00:00<00:00, 7192.84it/s]\n",
      "100%|██████████| 41/41 [00:00<00:00, 7083.81it/s]\n",
      "100%|██████████| 41/41 [00:00<00:00, 7192.84it/s]\n"
     ]
    },
    {
     "name": "stdout",
     "output_type": "stream",
     "text": [
      "0.005595404072664678\n",
      "Testing dinc_original for 5 times ...\n"
     ]
    },
    {
     "name": "stderr",
     "output_type": "stream",
     "text": [
      "100%|██████████| 41/41 [00:00<00:00, 5853.78it/s]\n",
      "100%|██████████| 41/41 [00:00<00:00, 4955.81it/s]\n",
      "100%|██████████| 41/41 [00:00<00:00, 6268.37it/s]\n",
      "100%|██████████| 41/41 [00:00<00:00, 6669.50it/s]\n",
      "100%|██████████| 41/41 [00:00<00:00, 6244.24it/s]\n"
     ]
    },
    {
     "name": "stdout",
     "output_type": "stream",
     "text": [
      "0.005938102840445936\n",
      "Testing incr_original for 5 times ...\n"
     ]
    },
    {
     "name": "stderr",
     "output_type": "stream",
     "text": [
      "100%|██████████| 41/41 [00:00<00:00, 7129.33it/s]\n",
      "100%|██████████| 41/41 [00:00<00:00, 6747.49it/s]\n",
      "100%|██████████| 41/41 [00:00<00:00, 7001.89it/s]\n",
      "100%|██████████| 41/41 [00:00<00:00, 7038.57it/s]\n",
      "100%|██████████| 41/41 [00:00<00:00, 7421.30it/s]\n"
     ]
    },
    {
     "name": "stdout",
     "output_type": "stream",
     "text": [
      "0.005433739977888763\n",
      "Testing incr_tsp for 5 times ...\n"
     ]
    },
    {
     "name": "stderr",
     "output_type": "stream",
     "text": [
      "100%|██████████| 41/41 [00:00<00:00, 7698.38it/s]\n",
      "100%|██████████| 41/41 [00:00<00:00, 7642.95it/s]\n",
      "100%|██████████| 41/41 [00:00<00:00, 7860.96it/s]\n",
      "100%|██████████| 41/41 [00:00<00:00, 7737.52it/s]\n",
      "100%|██████████| 41/41 [00:00<00:00, 7787.98it/s]"
     ]
    },
    {
     "name": "stdout",
     "output_type": "stream",
     "text": [
      "0.005185297457501292\n",
      "Result saved to: tail-nocache_direct_e_0\n"
     ]
    },
    {
     "name": "stderr",
     "output_type": "stream",
     "text": [
      "\n"
     ]
    },
    {
     "name": "stdout",
     "output_type": "stream",
     "text": [
      "Evaluating who-cache with 3090 queries.\n",
      "Calculating distances ...\n"
     ]
    },
    {
     "name": "stderr",
     "output_type": "stream",
     "text": [
      "100%|██████████| 3090/3090 [00:16<00:00, 191.23it/s]\n"
     ]
    },
    {
     "name": "stdout",
     "output_type": "stream",
     "text": [
      "Finding TSP ordering ...\n",
      "Testing res_original for 5 times ...\n"
     ]
    },
    {
     "name": "stderr",
     "output_type": "stream",
     "text": [
      "100%|██████████| 3090/3090 [00:13<00:00, 221.28it/s]\n",
      "100%|██████████| 3090/3090 [00:13<00:00, 222.65it/s]\n",
      "100%|██████████| 3090/3090 [00:13<00:00, 232.68it/s]\n",
      "100%|██████████| 3090/3090 [00:13<00:00, 228.93it/s]\n",
      "100%|██████████| 3090/3090 [00:13<00:00, 223.59it/s]\n"
     ]
    },
    {
     "name": "stdout",
     "output_type": "stream",
     "text": [
      "13.752742098644376\n",
      "Testing dinc_original for 5 times ...\n"
     ]
    },
    {
     "name": "stderr",
     "output_type": "stream",
     "text": [
      "100%|██████████| 3090/3090 [00:15<00:00, 197.18it/s]\n",
      "100%|██████████| 3090/3090 [00:15<00:00, 195.19it/s]\n",
      "100%|██████████| 3090/3090 [00:15<00:00, 195.32it/s]\n",
      "100%|██████████| 3090/3090 [00:15<00:00, 196.49it/s]\n",
      "100%|██████████| 3090/3090 [00:15<00:00, 196.44it/s]\n"
     ]
    },
    {
     "name": "stdout",
     "output_type": "stream",
     "text": [
      "11.819842461147346\n",
      "Testing incr_original for 5 times ...\n"
     ]
    },
    {
     "name": "stderr",
     "output_type": "stream",
     "text": [
      "100%|██████████| 3090/3090 [00:09<00:00, 333.71it/s]\n",
      "100%|██████████| 3090/3090 [00:09<00:00, 327.85it/s]\n",
      "100%|██████████| 3090/3090 [00:09<00:00, 329.38it/s]\n",
      "100%|██████████| 3090/3090 [00:09<00:00, 332.36it/s]\n",
      "100%|██████████| 3090/3090 [00:09<00:00, 331.52it/s]\n"
     ]
    },
    {
     "name": "stdout",
     "output_type": "stream",
     "text": [
      "9.27031299402006\n",
      "Testing incr_tsp for 5 times ...\n"
     ]
    },
    {
     "name": "stderr",
     "output_type": "stream",
     "text": [
      "100%|██████████| 3090/3090 [00:09<00:00, 331.63it/s]\n",
      "100%|██████████| 3090/3090 [00:09<00:00, 328.54it/s]\n",
      "100%|██████████| 3090/3090 [00:09<00:00, 333.37it/s]\n",
      "100%|██████████| 3090/3090 [00:09<00:00, 329.62it/s]\n",
      "100%|██████████| 3090/3090 [00:09<00:00, 338.27it/s]\n"
     ]
    },
    {
     "name": "stdout",
     "output_type": "stream",
     "text": [
      "9.093715266673826\n",
      "Result saved to: who-cache_direct_e_0\n",
      "Evaluating who-nocache with 2296 queries.\n",
      "Calculating distances ...\n"
     ]
    },
    {
     "name": "stderr",
     "output_type": "stream",
     "text": [
      "100%|██████████| 2296/2296 [00:08<00:00, 255.51it/s]\n"
     ]
    },
    {
     "name": "stdout",
     "output_type": "stream",
     "text": [
      "Finding TSP ordering ...\n",
      "Testing res_original for 5 times ...\n"
     ]
    },
    {
     "name": "stderr",
     "output_type": "stream",
     "text": [
      "100%|██████████| 2296/2296 [00:09<00:00, 238.05it/s]\n",
      "100%|██████████| 2296/2296 [00:09<00:00, 238.16it/s]\n",
      "100%|██████████| 2296/2296 [00:09<00:00, 232.95it/s]\n",
      "100%|██████████| 2296/2296 [00:09<00:00, 236.37it/s]\n",
      "100%|██████████| 2296/2296 [00:10<00:00, 227.29it/s]\n"
     ]
    },
    {
     "name": "stdout",
     "output_type": "stream",
     "text": [
      "10.049157615401782\n",
      "Testing dinc_original for 5 times ...\n"
     ]
    },
    {
     "name": "stderr",
     "output_type": "stream",
     "text": [
      "100%|██████████| 2296/2296 [00:11<00:00, 205.58it/s]\n",
      "100%|██████████| 2296/2296 [00:11<00:00, 206.78it/s]\n",
      "100%|██████████| 2296/2296 [00:11<00:00, 205.53it/s]\n",
      "100%|██████████| 2296/2296 [00:11<00:00, 202.38it/s]\n",
      "100%|██████████| 2296/2296 [00:11<00:00, 200.07it/s]\n"
     ]
    },
    {
     "name": "stdout",
     "output_type": "stream",
     "text": [
      "8.688630961929448\n",
      "Testing incr_original for 5 times ...\n"
     ]
    },
    {
     "name": "stderr",
     "output_type": "stream",
     "text": [
      "100%|██████████| 2296/2296 [00:06<00:00, 340.43it/s]\n",
      "100%|██████████| 2296/2296 [00:06<00:00, 342.76it/s]\n",
      "100%|██████████| 2296/2296 [00:06<00:00, 343.93it/s]\n",
      "100%|██████████| 2296/2296 [00:06<00:00, 341.87it/s]\n",
      "100%|██████████| 2296/2296 [00:06<00:00, 344.34it/s]\n"
     ]
    },
    {
     "name": "stdout",
     "output_type": "stream",
     "text": [
      "6.634697066503577\n",
      "Testing incr_tsp for 5 times ...\n"
     ]
    },
    {
     "name": "stderr",
     "output_type": "stream",
     "text": [
      "100%|██████████| 2296/2296 [00:06<00:00, 343.55it/s]\n",
      "100%|██████████| 2296/2296 [00:06<00:00, 340.64it/s]\n",
      "100%|██████████| 2296/2296 [00:06<00:00, 332.41it/s]\n",
      "100%|██████████| 2296/2296 [00:06<00:00, 344.62it/s]\n",
      "100%|██████████| 2296/2296 [00:06<00:00, 347.70it/s]\n"
     ]
    },
    {
     "name": "stdout",
     "output_type": "stream",
     "text": [
      "6.572585363406688\n",
      "Result saved to: who-nocache_direct_e_0\n"
     ]
    }
   ],
   "source": [
    "push_cost = exp_cost\n",
    "pop_cost = zero_cost\n",
    "evaluate(\"echo-cache\", True, \"direct_e_0\")\n",
    "evaluate(\"echo-nocache\", True, \"direct_e_0\")\n",
    "evaluate(\"pwd-nocache\", True, \"direct_e_0\")\n",
    "evaluate(\"tail-cache\", True, \"direct_e_0\")\n",
    "evaluate(\"tail-nocache\", True, \"direct_e_0\")\n",
    "evaluate(\"who-cache\", True, \"direct_e_0\")\n",
    "evaluate(\"who-nocache\", True, \"direct_e_0\")"
   ]
  },
  {
   "cell_type": "code",
   "execution_count": 25,
   "metadata": {},
   "outputs": [
    {
     "name": "stdout",
     "output_type": "stream",
     "text": [
      "Evaluating echo-cache with 4302 queries.\n",
      "Calculating distances ...\n"
     ]
    },
    {
     "name": "stderr",
     "output_type": "stream",
     "text": [
      "100%|██████████| 4302/4302 [00:28<00:00, 152.18it/s]\n"
     ]
    },
    {
     "name": "stdout",
     "output_type": "stream",
     "text": [
      "Finding TSP ordering ...\n",
      "Testing res_original for 5 times ...\n"
     ]
    },
    {
     "name": "stderr",
     "output_type": "stream",
     "text": [
      "100%|██████████| 4302/4302 [00:14<00:00, 301.92it/s]\n",
      "100%|██████████| 4302/4302 [00:14<00:00, 302.44it/s]\n",
      "100%|██████████| 4302/4302 [00:14<00:00, 296.54it/s] \n",
      "100%|██████████| 4302/4302 [00:14<00:00, 302.06it/s]\n",
      "100%|██████████| 4302/4302 [00:14<00:00, 291.91it/s]\n"
     ]
    },
    {
     "name": "stdout",
     "output_type": "stream",
     "text": [
      "14.672228308860213\n",
      "Testing dinc_original for 5 times ...\n"
     ]
    },
    {
     "name": "stderr",
     "output_type": "stream",
     "text": [
      "100%|██████████| 4302/4302 [00:15<00:00, 277.86it/s] \n",
      "100%|██████████| 4302/4302 [00:15<00:00, 275.79it/s] \n",
      "100%|██████████| 4302/4302 [00:15<00:00, 280.90it/s] \n",
      "100%|██████████| 4302/4302 [00:15<00:00, 281.65it/s] \n",
      "100%|██████████| 4302/4302 [00:15<00:00, 282.51it/s] \n"
     ]
    },
    {
     "name": "stdout",
     "output_type": "stream",
     "text": [
      "11.221729774028063\n",
      "Testing incr_original for 5 times ...\n"
     ]
    },
    {
     "name": "stderr",
     "output_type": "stream",
     "text": [
      "100%|██████████| 4302/4302 [00:08<00:00, 482.74it/s] \n",
      "100%|██████████| 4302/4302 [00:08<00:00, 483.29it/s] \n",
      "100%|██████████| 4302/4302 [00:08<00:00, 487.08it/s] \n",
      "100%|██████████| 4302/4302 [00:08<00:00, 485.93it/s] \n",
      "100%|██████████| 4302/4302 [00:08<00:00, 486.84it/s] \n"
     ]
    },
    {
     "name": "stdout",
     "output_type": "stream",
     "text": [
      "8.800744786974974\n",
      "Testing incr_tsp for 5 times ...\n"
     ]
    },
    {
     "name": "stderr",
     "output_type": "stream",
     "text": [
      "100%|██████████| 4302/4302 [00:08<00:00, 488.64it/s]\n",
      "100%|██████████| 4302/4302 [00:08<00:00, 484.13it/s]\n",
      "100%|██████████| 4302/4302 [00:08<00:00, 482.57it/s]\n",
      "100%|██████████| 4302/4302 [00:08<00:00, 487.19it/s]\n",
      "100%|██████████| 4302/4302 [00:08<00:00, 484.02it/s]\n"
     ]
    },
    {
     "name": "stdout",
     "output_type": "stream",
     "text": [
      "8.85160968801938\n",
      "Result saved to: echo-cache_nodirect_e_i\n",
      "Evaluating echo-nocache with 1808 queries.\n",
      "Calculating distances ...\n"
     ]
    },
    {
     "name": "stderr",
     "output_type": "stream",
     "text": [
      "100%|██████████| 1808/1808 [00:05<00:00, 332.32it/s]\n"
     ]
    },
    {
     "name": "stdout",
     "output_type": "stream",
     "text": [
      "Finding TSP ordering ...\n",
      "Testing res_original for 5 times ...\n"
     ]
    },
    {
     "name": "stderr",
     "output_type": "stream",
     "text": [
      "100%|██████████| 1808/1808 [00:06<00:00, 274.71it/s]\n",
      "100%|██████████| 1808/1808 [00:06<00:00, 281.28it/s]\n",
      "100%|██████████| 1808/1808 [00:06<00:00, 277.20it/s]\n",
      "100%|██████████| 1808/1808 [00:06<00:00, 282.69it/s]\n",
      "100%|██████████| 1808/1808 [00:06<00:00, 280.11it/s]\n"
     ]
    },
    {
     "name": "stdout",
     "output_type": "stream",
     "text": [
      "6.426355789997615\n",
      "Testing dinc_original for 5 times ...\n"
     ]
    },
    {
     "name": "stderr",
     "output_type": "stream",
     "text": [
      "100%|██████████| 1808/1808 [00:07<00:00, 248.78it/s]\n",
      "100%|██████████| 1808/1808 [00:07<00:00, 240.81it/s]\n",
      "100%|██████████| 1808/1808 [00:07<00:00, 242.51it/s]\n",
      "100%|██████████| 1808/1808 [00:07<00:00, 245.17it/s]\n",
      "100%|██████████| 1808/1808 [00:07<00:00, 243.63it/s]\n"
     ]
    },
    {
     "name": "stdout",
     "output_type": "stream",
     "text": [
      "5.624143323395401\n",
      "Testing incr_original for 5 times ...\n"
     ]
    },
    {
     "name": "stderr",
     "output_type": "stream",
     "text": [
      "100%|██████████| 1808/1808 [00:04<00:00, 409.61it/s]\n",
      "100%|██████████| 1808/1808 [00:04<00:00, 411.01it/s]\n",
      "100%|██████████| 1808/1808 [00:04<00:00, 405.88it/s]\n",
      "100%|██████████| 1808/1808 [00:04<00:00, 408.79it/s]\n",
      "100%|██████████| 1808/1808 [00:04<00:00, 408.44it/s]\n"
     ]
    },
    {
     "name": "stdout",
     "output_type": "stream",
     "text": [
      "4.406782275647856\n",
      "Testing incr_tsp for 5 times ...\n"
     ]
    },
    {
     "name": "stderr",
     "output_type": "stream",
     "text": [
      "100%|██████████| 1808/1808 [00:04<00:00, 411.58it/s]\n",
      "100%|██████████| 1808/1808 [00:04<00:00, 413.60it/s]\n",
      "100%|██████████| 1808/1808 [00:04<00:00, 407.17it/s]\n",
      "100%|██████████| 1808/1808 [00:04<00:00, 405.00it/s]\n",
      "100%|██████████| 1808/1808 [00:04<00:00, 411.27it/s]\n"
     ]
    },
    {
     "name": "stdout",
     "output_type": "stream",
     "text": [
      "4.376454290933907\n",
      "Result saved to: echo-nocache_nodirect_e_i\n",
      "Evaluating pwd-nocache with 1263 queries.\n",
      "Calculating distances ...\n"
     ]
    },
    {
     "name": "stderr",
     "output_type": "stream",
     "text": [
      "100%|██████████| 1263/1263 [00:03<00:00, 411.93it/s]\n"
     ]
    },
    {
     "name": "stdout",
     "output_type": "stream",
     "text": [
      "Finding TSP ordering ...\n",
      "Testing res_original for 5 times ...\n"
     ]
    },
    {
     "name": "stderr",
     "output_type": "stream",
     "text": [
      "100%|██████████| 1263/1263 [00:04<00:00, 267.43it/s]\n",
      "100%|██████████| 1263/1263 [00:04<00:00, 263.67it/s]\n",
      "100%|██████████| 1263/1263 [00:04<00:00, 269.67it/s]\n",
      "100%|██████████| 1263/1263 [00:04<00:00, 266.34it/s]\n",
      "100%|██████████| 1263/1263 [00:04<00:00, 264.85it/s]\n"
     ]
    },
    {
     "name": "stdout",
     "output_type": "stream",
     "text": [
      "4.747141289175488\n",
      "Testing dinc_original for 5 times ...\n"
     ]
    },
    {
     "name": "stderr",
     "output_type": "stream",
     "text": [
      "100%|██████████| 1263/1263 [00:05<00:00, 225.50it/s]\n",
      "100%|██████████| 1263/1263 [00:05<00:00, 224.03it/s]\n",
      "100%|██████████| 1263/1263 [00:05<00:00, 225.33it/s]\n",
      "100%|██████████| 1263/1263 [00:05<00:00, 225.58it/s]\n",
      "100%|██████████| 1263/1263 [00:05<00:00, 222.84it/s]\n"
     ]
    },
    {
     "name": "stdout",
     "output_type": "stream",
     "text": [
      "4.467587791499682\n",
      "Testing incr_original for 5 times ...\n"
     ]
    },
    {
     "name": "stderr",
     "output_type": "stream",
     "text": [
      "100%|██████████| 1263/1263 [00:03<00:00, 377.39it/s]\n",
      "100%|██████████| 1263/1263 [00:03<00:00, 377.04it/s]\n",
      "100%|██████████| 1263/1263 [00:03<00:00, 375.82it/s]\n",
      "100%|██████████| 1263/1263 [00:03<00:00, 372.95it/s]\n",
      "100%|██████████| 1263/1263 [00:03<00:00, 370.86it/s]\n"
     ]
    },
    {
     "name": "stdout",
     "output_type": "stream",
     "text": [
      "3.389842391363345\n",
      "Testing incr_tsp for 5 times ...\n"
     ]
    },
    {
     "name": "stderr",
     "output_type": "stream",
     "text": [
      "100%|██████████| 1263/1263 [00:03<00:00, 377.54it/s]\n",
      "100%|██████████| 1263/1263 [00:03<00:00, 373.47it/s]\n",
      "100%|██████████| 1263/1263 [00:03<00:00, 377.17it/s]\n",
      "100%|██████████| 1263/1263 [00:03<00:00, 381.64it/s]\n",
      "100%|██████████| 1263/1263 [00:03<00:00, 377.53it/s]"
     ]
    },
    {
     "name": "stdout",
     "output_type": "stream",
     "text": [
      "3.331089707906358\n",
      "Result saved to: pwd-nocache_nodirect_e_i\n",
      "Evaluating tail-cache with 41 queries.\n",
      "Calculating distances ...\n"
     ]
    },
    {
     "name": "stderr",
     "output_type": "stream",
     "text": [
      "\n",
      "100%|██████████| 41/41 [00:00<00:00, 23079.65it/s]\n"
     ]
    },
    {
     "name": "stdout",
     "output_type": "stream",
     "text": [
      "Finding TSP ordering ...\n",
      "Testing res_original for 5 times ...\n"
     ]
    },
    {
     "name": "stderr",
     "output_type": "stream",
     "text": [
      "100%|██████████| 41/41 [00:00<00:00, 5808.89it/s]\n",
      "100%|██████████| 41/41 [00:00<00:00, 7222.45it/s]\n",
      "100%|██████████| 41/41 [00:00<00:00, 7484.94it/s]\n",
      "100%|██████████| 41/41 [00:00<00:00, 7541.07it/s]\n",
      "100%|██████████| 41/41 [00:00<00:00, 7048.96it/s]\n"
     ]
    },
    {
     "name": "stdout",
     "output_type": "stream",
     "text": [
      "0.0057165229227393866\n",
      "Testing dinc_original for 5 times ...\n"
     ]
    },
    {
     "name": "stderr",
     "output_type": "stream",
     "text": [
      "100%|██████████| 41/41 [00:00<00:00, 6419.29it/s]\n",
      "100%|██████████| 41/41 [00:00<00:00, 5834.32it/s]\n",
      "100%|██████████| 41/41 [00:00<00:00, 6256.28it/s]\n",
      "100%|██████████| 41/41 [00:00<00:00, 6117.84it/s]\n",
      "100%|██████████| 41/41 [00:00<00:00, 6468.31it/s]\n"
     ]
    },
    {
     "name": "stdout",
     "output_type": "stream",
     "text": [
      "0.005692908889614046\n",
      "Testing incr_original for 5 times ...\n"
     ]
    },
    {
     "name": "stderr",
     "output_type": "stream",
     "text": [
      "100%|██████████| 41/41 [00:00<00:00, 7230.04it/s]\n",
      "100%|██████████| 41/41 [00:00<00:00, 7203.39it/s]\n",
      "100%|██████████| 41/41 [00:00<00:00, 7288.88it/s]\n",
      "100%|██████████| 41/41 [00:00<00:00, 6796.02it/s]\n",
      "100%|██████████| 41/41 [00:00<00:00, 5915.40it/s]\n"
     ]
    },
    {
     "name": "stdout",
     "output_type": "stream",
     "text": [
      "0.0068014832213521\n",
      "Testing incr_tsp for 5 times ...\n"
     ]
    },
    {
     "name": "stderr",
     "output_type": "stream",
     "text": [
      "100%|██████████| 41/41 [00:00<00:00, 7276.54it/s]\n",
      "100%|██████████| 41/41 [00:00<00:00, 6439.73it/s]\n",
      "100%|██████████| 41/41 [00:00<00:00, 6188.52it/s]\n",
      "100%|██████████| 41/41 [00:00<00:00, 3681.97it/s]\n",
      "100%|██████████| 41/41 [00:00<00:00, 7435.74it/s]"
     ]
    },
    {
     "name": "stdout",
     "output_type": "stream",
     "text": [
      "0.005427685333415866\n",
      "Result saved to: tail-cache_nodirect_e_i\n",
      "Evaluating tail-nocache with 41 queries.\n",
      "Calculating distances ...\n"
     ]
    },
    {
     "name": "stderr",
     "output_type": "stream",
     "text": [
      "\n",
      "100%|██████████| 41/41 [00:00<00:00, 13927.79it/s]\n"
     ]
    },
    {
     "name": "stdout",
     "output_type": "stream",
     "text": [
      "Finding TSP ordering ...\n",
      "Testing res_original for 5 times ...\n"
     ]
    },
    {
     "name": "stderr",
     "output_type": "stream",
     "text": [
      "100%|██████████| 41/41 [00:00<00:00, 5483.97it/s]\n",
      "100%|██████████| 41/41 [00:00<00:00, 6570.88it/s]\n",
      "100%|██████████| 41/41 [00:00<00:00, 6710.62it/s]\n",
      "100%|██████████| 41/41 [00:00<00:00, 5953.28it/s]\n",
      "100%|██████████| 41/41 [00:00<00:00, 6066.05it/s]\n"
     ]
    },
    {
     "name": "stdout",
     "output_type": "stream",
     "text": [
      "0.006627989350818098\n",
      "Testing dinc_original for 5 times ...\n"
     ]
    },
    {
     "name": "stderr",
     "output_type": "stream",
     "text": [
      "100%|██████████| 41/41 [00:00<00:00, 6075.05it/s]\n",
      "100%|██████████| 41/41 [00:00<00:00, 4474.22it/s]\n",
      "100%|██████████| 41/41 [00:00<00:00, 5768.17it/s]\n",
      "100%|██████████| 41/41 [00:00<00:00, 6139.25it/s]\n",
      "100%|██████████| 41/41 [00:00<00:00, 6296.60it/s]\n"
     ]
    },
    {
     "name": "stdout",
     "output_type": "stream",
     "text": [
      "0.005842757294885814\n",
      "Testing incr_original for 5 times ...\n"
     ]
    },
    {
     "name": "stderr",
     "output_type": "stream",
     "text": [
      "100%|██████████| 41/41 [00:00<00:00, 6229.77it/s]\n",
      "100%|██████████| 41/41 [00:00<00:00, 6642.71it/s]\n",
      "100%|██████████| 41/41 [00:00<00:00, 6915.45it/s]\n",
      "100%|██████████| 41/41 [00:00<00:00, 7009.60it/s]\n",
      "100%|██████████| 41/41 [00:00<00:00, 7090.52it/s]\n"
     ]
    },
    {
     "name": "stdout",
     "output_type": "stream",
     "text": [
      "0.005674552754499018\n",
      "Testing incr_tsp for 5 times ...\n"
     ]
    },
    {
     "name": "stderr",
     "output_type": "stream",
     "text": [
      "100%|██████████| 41/41 [00:00<00:00, 7643.29it/s]\n",
      "100%|██████████| 41/41 [00:00<00:00, 6287.85it/s]\n",
      "100%|██████████| 41/41 [00:00<00:00, 7005.60it/s]\n",
      "100%|██████████| 41/41 [00:00<00:00, 6931.06it/s]\n",
      "100%|██████████| 41/41 [00:00<00:00, 7442.82it/s]"
     ]
    },
    {
     "name": "stdout",
     "output_type": "stream",
     "text": [
      "0.0054247104562819\n",
      "Result saved to: tail-nocache_nodirect_e_i\n"
     ]
    },
    {
     "name": "stderr",
     "output_type": "stream",
     "text": [
      "\n"
     ]
    },
    {
     "name": "stdout",
     "output_type": "stream",
     "text": [
      "Evaluating who-cache with 3090 queries.\n",
      "Calculating distances ...\n"
     ]
    },
    {
     "name": "stderr",
     "output_type": "stream",
     "text": [
      "100%|██████████| 3090/3090 [00:15<00:00, 195.19it/s]\n"
     ]
    },
    {
     "name": "stdout",
     "output_type": "stream",
     "text": [
      "Finding TSP ordering ...\n",
      "Testing res_original for 5 times ...\n"
     ]
    },
    {
     "name": "stderr",
     "output_type": "stream",
     "text": [
      "100%|██████████| 3090/3090 [00:13<00:00, 223.82it/s]\n",
      "100%|██████████| 3090/3090 [00:13<00:00, 229.47it/s]\n",
      "100%|██████████| 3090/3090 [00:13<00:00, 231.55it/s]\n",
      "100%|██████████| 3090/3090 [00:13<00:00, 232.70it/s]\n",
      "100%|██████████| 3090/3090 [00:14<00:00, 220.40it/s]\n"
     ]
    },
    {
     "name": "stdout",
     "output_type": "stream",
     "text": [
      "13.95153579977341\n",
      "Testing dinc_original for 5 times ...\n"
     ]
    },
    {
     "name": "stderr",
     "output_type": "stream",
     "text": [
      "100%|██████████| 3090/3090 [00:15<00:00, 197.02it/s]\n",
      "100%|██████████| 3090/3090 [00:15<00:00, 195.50it/s]\n",
      "100%|██████████| 3090/3090 [00:15<00:00, 198.51it/s]\n",
      "100%|██████████| 3090/3090 [00:15<00:00, 202.00it/s]\n",
      "100%|██████████| 3090/3090 [00:15<00:00, 202.11it/s]\n"
     ]
    },
    {
     "name": "stdout",
     "output_type": "stream",
     "text": [
      "11.492234535282478\n",
      "Testing incr_original for 5 times ...\n"
     ]
    },
    {
     "name": "stderr",
     "output_type": "stream",
     "text": [
      "100%|██████████| 3090/3090 [00:09<00:00, 340.65it/s]\n",
      "100%|██████████| 3090/3090 [00:09<00:00, 340.55it/s]\n",
      "100%|██████████| 3090/3090 [00:09<00:00, 340.37it/s]\n",
      "100%|██████████| 3090/3090 [00:09<00:00, 341.15it/s]\n",
      "100%|██████████| 3090/3090 [00:09<00:00, 339.91it/s]\n"
     ]
    },
    {
     "name": "stdout",
     "output_type": "stream",
     "text": [
      "9.049329237197526\n",
      "Testing incr_tsp for 5 times ...\n"
     ]
    },
    {
     "name": "stderr",
     "output_type": "stream",
     "text": [
      "100%|██████████| 3090/3090 [00:09<00:00, 340.92it/s]\n",
      "100%|██████████| 3090/3090 [00:09<00:00, 341.67it/s]\n",
      "100%|██████████| 3090/3090 [00:09<00:00, 341.82it/s]\n",
      "100%|██████████| 3090/3090 [00:09<00:00, 339.87it/s]\n",
      "100%|██████████| 3090/3090 [00:09<00:00, 329.90it/s]\n"
     ]
    },
    {
     "name": "stdout",
     "output_type": "stream",
     "text": [
      "9.31830205838196\n",
      "Result saved to: who-cache_nodirect_e_i\n",
      "Evaluating who-nocache with 2296 queries.\n",
      "Calculating distances ...\n"
     ]
    },
    {
     "name": "stderr",
     "output_type": "stream",
     "text": [
      "100%|██████████| 2296/2296 [00:09<00:00, 251.72it/s]\n"
     ]
    },
    {
     "name": "stdout",
     "output_type": "stream",
     "text": [
      "Finding TSP ordering ...\n",
      "Testing res_original for 5 times ...\n"
     ]
    },
    {
     "name": "stderr",
     "output_type": "stream",
     "text": [
      "100%|██████████| 2296/2296 [00:09<00:00, 236.31it/s]\n",
      "100%|██████████| 2296/2296 [00:09<00:00, 231.11it/s]\n",
      "100%|██████████| 2296/2296 [00:09<00:00, 232.48it/s]\n",
      "100%|██████████| 2296/2296 [00:09<00:00, 236.40it/s]\n",
      "100%|██████████| 2296/2296 [00:09<00:00, 232.26it/s]\n"
     ]
    },
    {
     "name": "stdout",
     "output_type": "stream",
     "text": [
      "9.840853372355923\n",
      "Testing dinc_original for 5 times ...\n"
     ]
    },
    {
     "name": "stderr",
     "output_type": "stream",
     "text": [
      "100%|██████████| 2296/2296 [00:11<00:00, 206.21it/s]\n",
      "100%|██████████| 2296/2296 [00:11<00:00, 206.66it/s]\n",
      "100%|██████████| 2296/2296 [00:11<00:00, 205.94it/s]\n",
      "100%|██████████| 2296/2296 [00:11<00:00, 205.23it/s]\n",
      "100%|██████████| 2296/2296 [00:11<00:00, 204.87it/s]\n"
     ]
    },
    {
     "name": "stdout",
     "output_type": "stream",
     "text": [
      "8.502950644819066\n",
      "Testing incr_original for 5 times ...\n"
     ]
    },
    {
     "name": "stderr",
     "output_type": "stream",
     "text": [
      "100%|██████████| 2296/2296 [00:06<00:00, 343.52it/s]\n",
      "100%|██████████| 2296/2296 [00:06<00:00, 348.68it/s]\n",
      "100%|██████████| 2296/2296 [00:06<00:00, 348.14it/s]\n",
      "100%|██████████| 2296/2296 [00:06<00:00, 341.90it/s]\n",
      "100%|██████████| 2296/2296 [00:06<00:00, 347.24it/s]\n"
     ]
    },
    {
     "name": "stdout",
     "output_type": "stream",
     "text": [
      "6.581598005373962\n",
      "Testing incr_tsp for 5 times ...\n"
     ]
    },
    {
     "name": "stderr",
     "output_type": "stream",
     "text": [
      "100%|██████████| 2296/2296 [00:06<00:00, 351.71it/s]\n",
      "100%|██████████| 2296/2296 [00:06<00:00, 350.98it/s]\n",
      "100%|██████████| 2296/2296 [00:06<00:00, 345.02it/s]\n",
      "100%|██████████| 2296/2296 [00:06<00:00, 347.22it/s]\n",
      "100%|██████████| 2296/2296 [00:06<00:00, 350.73it/s]"
     ]
    },
    {
     "name": "stdout",
     "output_type": "stream",
     "text": [
      "6.516389334690757\n",
      "Result saved to: who-nocache_nodirect_e_i\n"
     ]
    },
    {
     "name": "stderr",
     "output_type": "stream",
     "text": [
      "\n"
     ]
    }
   ],
   "source": [
    "push_cost = exp_cost\n",
    "pop_cost = identity_cost\n",
    "evaluate(\"echo-cache\", False, \"nodirect_e_i\")\n",
    "evaluate(\"echo-nocache\", False, \"nodirect_e_i\")\n",
    "evaluate(\"pwd-nocache\", False, \"nodirect_e_i\")\n",
    "evaluate(\"tail-cache\", False, \"nodirect_e_i\")\n",
    "evaluate(\"tail-nocache\", False, \"nodirect_e_i\")\n",
    "evaluate(\"who-cache\", False, \"nodirect_e_i\")\n",
    "evaluate(\"who-nocache\", False, \"nodirect_e_i\")"
   ]
  },
  {
   "cell_type": "code",
   "execution_count": 8,
   "metadata": {},
   "outputs": [
    {
     "name": "stdout",
     "output_type": "stream",
     "text": [
      "Evaluating echo-cache with 4302 queries.\n",
      "Calculating distances ...\n"
     ]
    },
    {
     "name": "stderr",
     "output_type": "stream",
     "text": [
      " 17%|█▋        | 720/4302 [00:04<00:21, 164.25it/s]\n"
     ]
    },
    {
     "ename": "KeyboardInterrupt",
     "evalue": "",
     "output_type": "error",
     "traceback": [
      "\u001b[0;31m---------------------------------------------------------------------------\u001b[0m",
      "\u001b[0;31mKeyboardInterrupt\u001b[0m                         Traceback (most recent call last)",
      "Cell \u001b[0;32mIn [8], line 3\u001b[0m\n\u001b[1;32m      1\u001b[0m push_cost \u001b[39m=\u001b[39m identity_cost\n\u001b[1;32m      2\u001b[0m pop_cost \u001b[39m=\u001b[39m identity_cost\n\u001b[0;32m----> 3\u001b[0m evaluate(\u001b[39m\"\u001b[39;49m\u001b[39mecho-cache\u001b[39;49m\u001b[39m\"\u001b[39;49m, \u001b[39mFalse\u001b[39;49;00m, \u001b[39m\"\u001b[39;49m\u001b[39mnodirect_i_i\u001b[39;49m\u001b[39m\"\u001b[39;49m)\n\u001b[1;32m      4\u001b[0m evaluate(\u001b[39m\"\u001b[39m\u001b[39mecho-nocache\u001b[39m\u001b[39m\"\u001b[39m, \u001b[39mFalse\u001b[39;00m, \u001b[39m\"\u001b[39m\u001b[39mnodirect_i_i\u001b[39m\u001b[39m\"\u001b[39m)\n\u001b[1;32m      5\u001b[0m evaluate(\u001b[39m\"\u001b[39m\u001b[39mpwd-nocache\u001b[39m\u001b[39m\"\u001b[39m, \u001b[39mFalse\u001b[39;00m, \u001b[39m\"\u001b[39m\u001b[39mnodirect_i_i\u001b[39m\u001b[39m\"\u001b[39m)\n",
      "Cell \u001b[0;32mIn [7], line 16\u001b[0m, in \u001b[0;36mevaluate\u001b[0;34m(name, enable_direct_subset_answer, output_suffix, repeat_count, input_suffix)\u001b[0m\n\u001b[1;32m     13\u001b[0m \u001b[39mprint\u001b[39m(\u001b[39mf\u001b[39m\u001b[39m\"\u001b[39m\u001b[39mEvaluating \u001b[39m\u001b[39m{\u001b[39;00mname\u001b[39m}\u001b[39;00m\u001b[39m with \u001b[39m\u001b[39m{\u001b[39;00m\u001b[39mlen\u001b[39m(queries)\u001b[39m}\u001b[39;00m\u001b[39m queries.\u001b[39m\u001b[39m\"\u001b[39m)\n\u001b[1;32m     15\u001b[0m \u001b[39mprint\u001b[39m(\u001b[39m\"\u001b[39m\u001b[39mCalculating distances ...\u001b[39m\u001b[39m\"\u001b[39m)\n\u001b[0;32m---> 16\u001b[0m common_prefix_lens, distances \u001b[39m=\u001b[39m calc_distances()\n\u001b[1;32m     18\u001b[0m original_ordering \u001b[39m=\u001b[39m \u001b[39mlist\u001b[39m(\u001b[39mrange\u001b[39m(\u001b[39mlen\u001b[39m(queries)))\n\u001b[1;32m     19\u001b[0m \u001b[39mprint\u001b[39m(\u001b[39m\"\u001b[39m\u001b[39mFinding TSP ordering ...\u001b[39m\u001b[39m\"\u001b[39m)\n",
      "Cell \u001b[0;32mIn [7], line 3\u001b[0m, in \u001b[0;36mcalc_distances\u001b[0;34m()\u001b[0m\n\u001b[1;32m      1\u001b[0m \u001b[39mdef\u001b[39;00m \u001b[39mcalc_distances\u001b[39m():\n\u001b[1;32m      2\u001b[0m     \u001b[39mwith\u001b[39;00m ProcessPoolExecutor() \u001b[39mas\u001b[39;00m executor:\n\u001b[0;32m----> 3\u001b[0m         distances \u001b[39m=\u001b[39m \u001b[39mlist\u001b[39;49m(tqdm(executor\u001b[39m.\u001b[39;49mmap(calc_distances_for_map, \u001b[39mrange\u001b[39;49m(\u001b[39mlen\u001b[39;49m(queries))), total\u001b[39m=\u001b[39;49m\u001b[39mlen\u001b[39;49m(queries)))\n\u001b[1;32m      5\u001b[0m     common_prefix_lens \u001b[39m=\u001b[39m [[col[\u001b[39m0\u001b[39m] \u001b[39mfor\u001b[39;00m col \u001b[39min\u001b[39;00m row] \u001b[39mfor\u001b[39;00m row \u001b[39min\u001b[39;00m distances]\n\u001b[1;32m      6\u001b[0m     distances \u001b[39m=\u001b[39m [[col[\u001b[39m1\u001b[39m] \u001b[39mfor\u001b[39;00m col \u001b[39min\u001b[39;00m row] \u001b[39mfor\u001b[39;00m row \u001b[39min\u001b[39;00m distances]\n",
      "File \u001b[0;32m~/.conda/envs/st_project/lib/python3.10/site-packages/tqdm/std.py:1195\u001b[0m, in \u001b[0;36mtqdm.__iter__\u001b[0;34m(self)\u001b[0m\n\u001b[1;32m   1192\u001b[0m time \u001b[39m=\u001b[39m \u001b[39mself\u001b[39m\u001b[39m.\u001b[39m_time\n\u001b[1;32m   1194\u001b[0m \u001b[39mtry\u001b[39;00m:\n\u001b[0;32m-> 1195\u001b[0m     \u001b[39mfor\u001b[39;00m obj \u001b[39min\u001b[39;00m iterable:\n\u001b[1;32m   1196\u001b[0m         \u001b[39myield\u001b[39;00m obj\n\u001b[1;32m   1197\u001b[0m         \u001b[39m# Update and possibly print the progressbar.\u001b[39;00m\n\u001b[1;32m   1198\u001b[0m         \u001b[39m# Note: does not call self.update(1) for speed optimisation.\u001b[39;00m\n",
      "File \u001b[0;32m~/.conda/envs/st_project/lib/python3.10/concurrent/futures/process.py:570\u001b[0m, in \u001b[0;36m_chain_from_iterable_of_lists\u001b[0;34m(iterable)\u001b[0m\n\u001b[1;32m    564\u001b[0m \u001b[39mdef\u001b[39;00m \u001b[39m_chain_from_iterable_of_lists\u001b[39m(iterable):\n\u001b[1;32m    565\u001b[0m     \u001b[39m\"\"\"\u001b[39;00m\n\u001b[1;32m    566\u001b[0m \u001b[39m    Specialized implementation of itertools.chain.from_iterable.\u001b[39;00m\n\u001b[1;32m    567\u001b[0m \u001b[39m    Each item in *iterable* should be a list.  This function is\u001b[39;00m\n\u001b[1;32m    568\u001b[0m \u001b[39m    careful not to keep references to yielded objects.\u001b[39;00m\n\u001b[1;32m    569\u001b[0m \u001b[39m    \"\"\"\u001b[39;00m\n\u001b[0;32m--> 570\u001b[0m     \u001b[39mfor\u001b[39;00m element \u001b[39min\u001b[39;00m iterable:\n\u001b[1;32m    571\u001b[0m         element\u001b[39m.\u001b[39mreverse()\n\u001b[1;32m    572\u001b[0m         \u001b[39mwhile\u001b[39;00m element:\n",
      "File \u001b[0;32m~/.conda/envs/st_project/lib/python3.10/concurrent/futures/_base.py:621\u001b[0m, in \u001b[0;36mExecutor.map.<locals>.result_iterator\u001b[0;34m()\u001b[0m\n\u001b[1;32m    618\u001b[0m \u001b[39mwhile\u001b[39;00m fs:\n\u001b[1;32m    619\u001b[0m     \u001b[39m# Careful not to keep a reference to the popped future\u001b[39;00m\n\u001b[1;32m    620\u001b[0m     \u001b[39mif\u001b[39;00m timeout \u001b[39mis\u001b[39;00m \u001b[39mNone\u001b[39;00m:\n\u001b[0;32m--> 621\u001b[0m         \u001b[39myield\u001b[39;00m _result_or_cancel(fs\u001b[39m.\u001b[39;49mpop())\n\u001b[1;32m    622\u001b[0m     \u001b[39melse\u001b[39;00m:\n\u001b[1;32m    623\u001b[0m         \u001b[39myield\u001b[39;00m _result_or_cancel(fs\u001b[39m.\u001b[39mpop(), end_time \u001b[39m-\u001b[39m time\u001b[39m.\u001b[39mmonotonic())\n",
      "File \u001b[0;32m~/.conda/envs/st_project/lib/python3.10/concurrent/futures/_base.py:319\u001b[0m, in \u001b[0;36m_result_or_cancel\u001b[0;34m(***failed resolving arguments***)\u001b[0m\n\u001b[1;32m    317\u001b[0m \u001b[39mtry\u001b[39;00m:\n\u001b[1;32m    318\u001b[0m     \u001b[39mtry\u001b[39;00m:\n\u001b[0;32m--> 319\u001b[0m         \u001b[39mreturn\u001b[39;00m fut\u001b[39m.\u001b[39;49mresult(timeout)\n\u001b[1;32m    320\u001b[0m     \u001b[39mfinally\u001b[39;00m:\n\u001b[1;32m    321\u001b[0m         fut\u001b[39m.\u001b[39mcancel()\n",
      "File \u001b[0;32m~/.conda/envs/st_project/lib/python3.10/concurrent/futures/_base.py:453\u001b[0m, in \u001b[0;36mFuture.result\u001b[0;34m(self, timeout)\u001b[0m\n\u001b[1;32m    450\u001b[0m \u001b[39melif\u001b[39;00m \u001b[39mself\u001b[39m\u001b[39m.\u001b[39m_state \u001b[39m==\u001b[39m FINISHED:\n\u001b[1;32m    451\u001b[0m     \u001b[39mreturn\u001b[39;00m \u001b[39mself\u001b[39m\u001b[39m.\u001b[39m__get_result()\n\u001b[0;32m--> 453\u001b[0m \u001b[39mself\u001b[39;49m\u001b[39m.\u001b[39;49m_condition\u001b[39m.\u001b[39;49mwait(timeout)\n\u001b[1;32m    455\u001b[0m \u001b[39mif\u001b[39;00m \u001b[39mself\u001b[39m\u001b[39m.\u001b[39m_state \u001b[39min\u001b[39;00m [CANCELLED, CANCELLED_AND_NOTIFIED]:\n\u001b[1;32m    456\u001b[0m     \u001b[39mraise\u001b[39;00m CancelledError()\n",
      "File \u001b[0;32m~/.conda/envs/st_project/lib/python3.10/threading.py:320\u001b[0m, in \u001b[0;36mCondition.wait\u001b[0;34m(self, timeout)\u001b[0m\n\u001b[1;32m    318\u001b[0m \u001b[39mtry\u001b[39;00m:    \u001b[39m# restore state no matter what (e.g., KeyboardInterrupt)\u001b[39;00m\n\u001b[1;32m    319\u001b[0m     \u001b[39mif\u001b[39;00m timeout \u001b[39mis\u001b[39;00m \u001b[39mNone\u001b[39;00m:\n\u001b[0;32m--> 320\u001b[0m         waiter\u001b[39m.\u001b[39;49macquire()\n\u001b[1;32m    321\u001b[0m         gotit \u001b[39m=\u001b[39m \u001b[39mTrue\u001b[39;00m\n\u001b[1;32m    322\u001b[0m     \u001b[39melse\u001b[39;00m:\n",
      "\u001b[0;31mKeyboardInterrupt\u001b[0m: "
     ]
    }
   ],
   "source": [
    "push_cost = identity_cost\n",
    "pop_cost = identity_cost\n",
    "evaluate(\"echo-cache\", False, \"nodirect_i_i\")\n",
    "evaluate(\"echo-nocache\", False, \"nodirect_i_i\")\n",
    "evaluate(\"pwd-nocache\", False, \"nodirect_i_i\")\n",
    "evaluate(\"tail-cache\", False, \"nodirect_i_i\")\n",
    "evaluate(\"tail-nocache\", False, \"nodirect_i_i\")\n",
    "evaluate(\"who-cache\", False, \"nodirect_i_i\")\n",
    "evaluate(\"who-nocache\", False, \"nodirect_i_i\")"
   ]
  },
  {
   "cell_type": "code",
   "execution_count": 9,
   "metadata": {},
   "outputs": [
    {
     "name": "stdout",
     "output_type": "stream",
     "text": [
      "Evaluating echo-cache with 4302 queries.\n",
      "Calculating distances ...\n"
     ]
    },
    {
     "name": "stderr",
     "output_type": "stream",
     "text": [
      "100%|██████████| 4302/4302 [00:27<00:00, 159.16it/s]\n"
     ]
    },
    {
     "name": "stdout",
     "output_type": "stream",
     "text": [
      "Finding TSP ordering ...\n",
      "Testing res_original for 5 times ...\n"
     ]
    },
    {
     "name": "stderr",
     "output_type": "stream",
     "text": [
      "100%|██████████| 4302/4302 [00:13<00:00, 316.56it/s]\n",
      "100%|██████████| 4302/4302 [00:13<00:00, 309.56it/s] \n",
      "100%|██████████| 4302/4302 [00:13<00:00, 307.48it/s]\n",
      "100%|██████████| 4302/4302 [00:14<00:00, 306.40it/s] \n",
      "100%|██████████| 4302/4302 [00:13<00:00, 308.12it/s] \n"
     ]
    },
    {
     "name": "stdout",
     "output_type": "stream",
     "text": [
      "13.915965413674712\n",
      "Testing dinc_original for 5 times ...\n"
     ]
    },
    {
     "name": "stderr",
     "output_type": "stream",
     "text": [
      "100%|██████████| 4302/4302 [00:14<00:00, 291.39it/s] \n",
      "100%|██████████| 4302/4302 [00:14<00:00, 290.95it/s] \n",
      "100%|██████████| 4302/4302 [00:14<00:00, 291.55it/s] \n",
      "100%|██████████| 4302/4302 [00:14<00:00, 292.39it/s] \n",
      "100%|██████████| 4302/4302 [00:14<00:00, 290.89it/s] \n"
     ]
    },
    {
     "name": "stdout",
     "output_type": "stream",
     "text": [
      "10.79214611754287\n",
      "Testing incr_original for 5 times ...\n"
     ]
    },
    {
     "name": "stderr",
     "output_type": "stream",
     "text": [
      "100%|██████████| 4302/4302 [00:08<00:00, 491.70it/s] \n",
      "100%|██████████| 4302/4302 [00:08<00:00, 499.29it/s] \n",
      "100%|██████████| 4302/4302 [00:08<00:00, 492.24it/s] \n",
      "100%|██████████| 4302/4302 [00:08<00:00, 500.57it/s] \n",
      "100%|██████████| 4302/4302 [00:08<00:00, 492.39it/s] \n"
     ]
    },
    {
     "name": "stdout",
     "output_type": "stream",
     "text": [
      "8.707708490430377\n",
      "Testing incr_tsp for 5 times ...\n"
     ]
    },
    {
     "name": "stderr",
     "output_type": "stream",
     "text": [
      "100%|██████████| 4302/4302 [00:08<00:00, 520.85it/s] \n",
      "100%|██████████| 4302/4302 [00:08<00:00, 510.36it/s] \n",
      "100%|██████████| 4302/4302 [00:08<00:00, 513.07it/s] \n",
      "100%|██████████| 4302/4302 [00:08<00:00, 522.23it/s] \n",
      "100%|██████████| 4302/4302 [00:08<00:00, 512.84it/s] \n"
     ]
    },
    {
     "name": "stdout",
     "output_type": "stream",
     "text": [
      "8.361941648763604\n",
      "Result saved to: echo-cache_direct_i_i\n",
      "Evaluating echo-nocache with 1808 queries.\n",
      "Calculating distances ...\n"
     ]
    },
    {
     "name": "stderr",
     "output_type": "stream",
     "text": [
      "100%|██████████| 1808/1808 [00:05<00:00, 340.08it/s]\n"
     ]
    },
    {
     "name": "stdout",
     "output_type": "stream",
     "text": [
      "Finding TSP ordering ...\n",
      "Testing res_original for 5 times ...\n"
     ]
    },
    {
     "name": "stderr",
     "output_type": "stream",
     "text": [
      "100%|██████████| 1808/1808 [00:06<00:00, 291.44it/s]\n",
      "100%|██████████| 1808/1808 [00:06<00:00, 289.03it/s]\n",
      "100%|██████████| 1808/1808 [00:06<00:00, 286.01it/s]\n",
      "100%|██████████| 1808/1808 [00:06<00:00, 286.82it/s]\n",
      "100%|██████████| 1808/1808 [00:06<00:00, 287.02it/s]\n"
     ]
    },
    {
     "name": "stdout",
     "output_type": "stream",
     "text": [
      "6.277617424027994\n",
      "Testing dinc_original for 5 times ...\n"
     ]
    },
    {
     "name": "stderr",
     "output_type": "stream",
     "text": [
      "100%|██████████| 1808/1808 [00:07<00:00, 255.49it/s]\n",
      "100%|██████████| 1808/1808 [00:07<00:00, 255.38it/s]\n",
      "100%|██████████| 1808/1808 [00:07<00:00, 255.54it/s]\n",
      "100%|██████████| 1808/1808 [00:07<00:00, 255.92it/s]\n",
      "100%|██████████| 1808/1808 [00:07<00:00, 255.72it/s]\n"
     ]
    },
    {
     "name": "stdout",
     "output_type": "stream",
     "text": [
      "5.296174347866327\n",
      "Testing incr_original for 5 times ...\n"
     ]
    },
    {
     "name": "stderr",
     "output_type": "stream",
     "text": [
      "100%|██████████| 1808/1808 [00:04<00:00, 426.41it/s]\n",
      "100%|██████████| 1808/1808 [00:04<00:00, 421.70it/s]\n",
      "100%|██████████| 1808/1808 [00:04<00:00, 413.17it/s]\n",
      "100%|██████████| 1808/1808 [00:04<00:00, 421.60it/s]\n",
      "100%|██████████| 1808/1808 [00:04<00:00, 415.42it/s]\n"
     ]
    },
    {
     "name": "stdout",
     "output_type": "stream",
     "text": [
      "4.3330339984968305\n",
      "Testing incr_tsp for 5 times ...\n"
     ]
    },
    {
     "name": "stderr",
     "output_type": "stream",
     "text": [
      "100%|██████████| 1808/1808 [00:04<00:00, 441.69it/s]\n",
      "100%|██████████| 1808/1808 [00:04<00:00, 433.22it/s]\n",
      "100%|██████████| 1808/1808 [00:04<00:00, 442.91it/s]\n",
      "100%|██████████| 1808/1808 [00:04<00:00, 440.78it/s]\n",
      "100%|██████████| 1808/1808 [00:04<00:00, 430.14it/s]\n"
     ]
    },
    {
     "name": "stdout",
     "output_type": "stream",
     "text": [
      "4.187280721846037\n",
      "Result saved to: echo-nocache_direct_i_i\n",
      "Evaluating pwd-nocache with 1263 queries.\n",
      "Calculating distances ...\n"
     ]
    },
    {
     "name": "stderr",
     "output_type": "stream",
     "text": [
      "100%|██████████| 1263/1263 [00:03<00:00, 410.21it/s]\n"
     ]
    },
    {
     "name": "stdout",
     "output_type": "stream",
     "text": [
      "Finding TSP ordering ...\n",
      "Testing res_original for 5 times ...\n"
     ]
    },
    {
     "name": "stderr",
     "output_type": "stream",
     "text": [
      "100%|██████████| 1263/1263 [00:04<00:00, 272.24it/s]\n",
      "100%|██████████| 1263/1263 [00:04<00:00, 277.61it/s]\n",
      "100%|██████████| 1263/1263 [00:04<00:00, 280.77it/s]\n",
      "100%|██████████| 1263/1263 [00:04<00:00, 277.15it/s]\n",
      "100%|██████████| 1263/1263 [00:04<00:00, 276.61it/s]\n"
     ]
    },
    {
     "name": "stdout",
     "output_type": "stream",
     "text": [
      "4.54985004500486\n",
      "Testing dinc_original for 5 times ...\n"
     ]
    },
    {
     "name": "stderr",
     "output_type": "stream",
     "text": [
      "100%|██████████| 1263/1263 [00:05<00:00, 233.42it/s]\n",
      "100%|██████████| 1263/1263 [00:05<00:00, 231.89it/s]\n",
      "100%|██████████| 1263/1263 [00:05<00:00, 233.90it/s]\n",
      "100%|██████████| 1263/1263 [00:05<00:00, 235.41it/s]\n",
      "100%|██████████| 1263/1263 [00:05<00:00, 235.85it/s]\n"
     ]
    },
    {
     "name": "stdout",
     "output_type": "stream",
     "text": [
      "4.192121068597771\n",
      "Testing incr_original for 5 times ...\n"
     ]
    },
    {
     "name": "stderr",
     "output_type": "stream",
     "text": [
      "100%|██████████| 1263/1263 [00:03<00:00, 383.31it/s]\n",
      "100%|██████████| 1263/1263 [00:03<00:00, 389.97it/s]\n",
      "100%|██████████| 1263/1263 [00:03<00:00, 385.62it/s]\n",
      "100%|██████████| 1263/1263 [00:03<00:00, 389.00it/s]\n",
      "100%|██████████| 1263/1263 [00:03<00:00, 381.25it/s]\n"
     ]
    },
    {
     "name": "stdout",
     "output_type": "stream",
     "text": [
      "3.3011904385639355\n",
      "Testing incr_tsp for 5 times ...\n"
     ]
    },
    {
     "name": "stderr",
     "output_type": "stream",
     "text": [
      "100%|██████████| 1263/1263 [00:02<00:00, 421.33it/s]\n",
      "100%|██████████| 1263/1263 [00:02<00:00, 428.12it/s]\n",
      "100%|██████████| 1263/1263 [00:02<00:00, 430.91it/s]\n",
      "100%|██████████| 1263/1263 [00:03<00:00, 418.19it/s]\n",
      "100%|██████████| 1263/1263 [00:02<00:00, 430.44it/s]"
     ]
    },
    {
     "name": "stdout",
     "output_type": "stream",
     "text": [
      "2.924279117025435\n",
      "Result saved to: pwd-nocache_direct_i_i\n",
      "Evaluating tail-cache with 41 queries.\n",
      "Calculating distances ...\n"
     ]
    },
    {
     "name": "stderr",
     "output_type": "stream",
     "text": [
      "\n",
      "100%|██████████| 41/41 [00:00<00:00, 15686.08it/s]\n"
     ]
    },
    {
     "name": "stdout",
     "output_type": "stream",
     "text": [
      "Finding TSP ordering ...\n",
      "Testing res_original for 5 times ...\n"
     ]
    },
    {
     "name": "stderr",
     "output_type": "stream",
     "text": [
      "100%|██████████| 41/41 [00:00<00:00, 5970.85it/s]\n",
      "100%|██████████| 41/41 [00:00<00:00, 7333.32it/s]\n",
      "100%|██████████| 41/41 [00:00<00:00, 7785.87it/s]\n",
      "100%|██████████| 41/41 [00:00<00:00, 5714.88it/s]\n",
      "100%|██████████| 41/41 [00:00<00:00, 7792.22it/s]\n"
     ]
    },
    {
     "name": "stdout",
     "output_type": "stream",
     "text": [
      "0.005198353668674827\n",
      "Testing dinc_original for 5 times ...\n"
     ]
    },
    {
     "name": "stderr",
     "output_type": "stream",
     "text": [
      "100%|██████████| 41/41 [00:00<00:00, 7016.75it/s]\n",
      "100%|██████████| 41/41 [00:00<00:00, 7125.19it/s]\n",
      "100%|██████████| 41/41 [00:00<00:00, 7071.28it/s]\n",
      "100%|██████████| 41/41 [00:00<00:00, 7065.76it/s]\n",
      "100%|██████████| 41/41 [00:00<00:00, 4712.96it/s]\n"
     ]
    },
    {
     "name": "stdout",
     "output_type": "stream",
     "text": [
      "0.007700682035647333\n",
      "Testing incr_original for 5 times ...\n"
     ]
    },
    {
     "name": "stderr",
     "output_type": "stream",
     "text": [
      "100%|██████████| 41/41 [00:00<00:00, 4995.39it/s]\n",
      "100%|██████████| 41/41 [00:00<00:00, 7917.42it/s]\n",
      "100%|██████████| 41/41 [00:00<00:00, 8119.67it/s]\n",
      "100%|██████████| 41/41 [00:00<00:00, 6701.73it/s]\n",
      "100%|██████████| 41/41 [00:00<00:00, 7235.51it/s]\n"
     ]
    },
    {
     "name": "stdout",
     "output_type": "stream",
     "text": [
      "0.005546302068978548\n",
      "Testing incr_tsp for 5 times ...\n"
     ]
    },
    {
     "name": "stderr",
     "output_type": "stream",
     "text": [
      "100%|██████████| 41/41 [00:00<00:00, 6760.49it/s]\n",
      "100%|██████████| 41/41 [00:00<00:00, 6679.35it/s]\n",
      "100%|██████████| 41/41 [00:00<00:00, 6295.91it/s]\n",
      "100%|██████████| 41/41 [00:00<00:00, 6545.37it/s]\n",
      "100%|██████████| 41/41 [00:00<00:00, 7241.61it/s]\n"
     ]
    },
    {
     "name": "stdout",
     "output_type": "stream",
     "text": [
      "0.005563737009651959\n",
      "Result saved to: tail-cache_direct_i_i\n",
      "Evaluating tail-nocache with 41 queries.\n",
      "Calculating distances ...\n"
     ]
    },
    {
     "name": "stderr",
     "output_type": "stream",
     "text": [
      "100%|██████████| 41/41 [00:00<00:00, 6159.04it/s]\n"
     ]
    },
    {
     "name": "stdout",
     "output_type": "stream",
     "text": [
      "Finding TSP ordering ...\n",
      "Testing res_original for 5 times ...\n"
     ]
    },
    {
     "name": "stderr",
     "output_type": "stream",
     "text": [
      "100%|██████████| 41/41 [00:00<00:00, 4515.45it/s]\n",
      "100%|██████████| 41/41 [00:00<00:00, 5229.96it/s]\n",
      "100%|██████████| 41/41 [00:00<00:00, 5020.92it/s]\n",
      "100%|██████████| 41/41 [00:00<00:00, 7991.38it/s]\n",
      "100%|██████████| 41/41 [00:00<00:00, 7991.01it/s]\n"
     ]
    },
    {
     "name": "stdout",
     "output_type": "stream",
     "text": [
      "0.005074092303402722\n",
      "Testing dinc_original for 5 times ...\n"
     ]
    },
    {
     "name": "stderr",
     "output_type": "stream",
     "text": [
      "100%|██████████| 41/41 [00:00<00:00, 7227.61it/s]\n",
      "100%|██████████| 41/41 [00:00<00:00, 4991.48it/s]\n",
      "100%|██████████| 41/41 [00:00<00:00, 4890.41it/s]\n",
      "100%|██████████| 41/41 [00:00<00:00, 6242.66it/s]\n",
      "100%|██████████| 41/41 [00:00<00:00, 7217.60it/s]\n"
     ]
    },
    {
     "name": "stdout",
     "output_type": "stream",
     "text": [
      "0.005100843729451299\n",
      "Testing incr_original for 5 times ...\n"
     ]
    },
    {
     "name": "stderr",
     "output_type": "stream",
     "text": [
      "100%|██████████| 41/41 [00:00<00:00, 6594.82it/s]\n",
      "100%|██████████| 41/41 [00:00<00:00, 8058.79it/s]\n",
      "100%|██████████| 41/41 [00:00<00:00, 8042.20it/s]\n",
      "100%|██████████| 41/41 [00:00<00:00, 8002.16it/s]\n",
      "100%|██████████| 41/41 [00:00<00:00, 7265.78it/s]\n"
     ]
    },
    {
     "name": "stdout",
     "output_type": "stream",
     "text": [
      "0.005519633763469756\n",
      "Testing incr_tsp for 5 times ...\n"
     ]
    },
    {
     "name": "stderr",
     "output_type": "stream",
     "text": [
      "100%|██████████| 41/41 [00:00<00:00, 8268.41it/s]\n",
      "100%|██████████| 41/41 [00:00<00:00, 5981.23it/s]\n",
      "100%|██████████| 41/41 [00:00<00:00, 7705.28it/s]\n",
      "100%|██████████| 41/41 [00:00<00:00, 8322.43it/s]\n",
      "100%|██████████| 41/41 [00:00<00:00, 8226.88it/s]\n"
     ]
    },
    {
     "name": "stdout",
     "output_type": "stream",
     "text": [
      "0.004925264162011445\n",
      "Result saved to: tail-nocache_direct_i_i\n",
      "Evaluating who-cache with 3090 queries.\n",
      "Calculating distances ...\n"
     ]
    },
    {
     "name": "stderr",
     "output_type": "stream",
     "text": [
      "100%|██████████| 3090/3090 [00:15<00:00, 199.84it/s]\n"
     ]
    },
    {
     "name": "stdout",
     "output_type": "stream",
     "text": [
      "Finding TSP ordering ...\n"
     ]
    }
   ],
   "source": [
    "push_cost = identity_cost\n",
    "pop_cost = identity_cost\n",
    "evaluate(\"echo-cache\", True, \"direct_i_i\")\n",
    "evaluate(\"echo-nocache\", True, \"direct_i_i\")\n",
    "evaluate(\"pwd-nocache\", True, \"direct_i_i\")\n",
    "evaluate(\"tail-cache\", True, \"direct_i_i\")\n",
    "evaluate(\"tail-nocache\", True, \"direct_i_i\")\n",
    "evaluate(\"who-cache\", True, \"direct_i_i\")\n",
    "evaluate(\"who-nocache\", True, \"direct_i_i\")"
   ]
  },
  {
   "cell_type": "code",
   "execution_count": 7,
   "metadata": {},
   "outputs": [
    {
     "name": "stdout",
     "output_type": "stream",
     "text": [
      "Evaluating sort-cache-notimelimit with 4330 queries.\n",
      "Calculating distances ...\n"
     ]
    },
    {
     "name": "stderr",
     "output_type": "stream",
     "text": [
      "100%|██████████| 4330/4330 [00:53<00:00, 80.55it/s] \n"
     ]
    },
    {
     "name": "stdout",
     "output_type": "stream",
     "text": [
      "Finding TSP ordering ...\n",
      "Testing res_original for 1 times ...\n"
     ]
    },
    {
     "name": "stderr",
     "output_type": "stream",
     "text": [
      "100%|██████████| 4330/4330 [00:54<00:00, 79.16it/s] \n"
     ]
    },
    {
     "name": "stdout",
     "output_type": "stream",
     "text": [
      "54.55766424222384\n",
      "Testing dinc_original for 1 times ...\n"
     ]
    },
    {
     "name": "stderr",
     "output_type": "stream",
     "text": [
      "100%|██████████| 4330/4330 [35:56<00:00,  2.01it/s]   \n"
     ]
    },
    {
     "name": "stdout",
     "output_type": "stream",
     "text": [
      "2149.3775556433247\n",
      "Testing incr_original for 1 times ...\n"
     ]
    },
    {
     "name": "stderr",
     "output_type": "stream",
     "text": [
      " 98%|█████████▊| 4257/4330 [06:48<13:58, 11.49s/it]  "
     ]
    }
   ],
   "source": [
    "push_cost = exp_cost\n",
    "pop_cost = zero_cost\n",
    "evaluate(\"sort-cache-notimelimit\", True, \"direct_e_0\", repeat_count=1)"
   ]
  }
 ],
 "metadata": {
  "kernelspec": {
   "display_name": "Python 3.10.6 ('st_project')",
   "language": "python",
   "name": "python3"
  },
  "language_info": {
   "codemirror_mode": {
    "name": "ipython",
    "version": 3
   },
   "file_extension": ".py",
   "mimetype": "text/x-python",
   "name": "python",
   "nbconvert_exporter": "python",
   "pygments_lexer": "ipython3",
   "version": "3.10.6"
  },
  "orig_nbformat": 4,
  "vscode": {
   "interpreter": {
    "hash": "7f882a3639542dd5811c1790480d5caf019b9e40a56d63205866f35f84192d7e"
   }
  }
 },
 "nbformat": 4,
 "nbformat_minor": 2
}
