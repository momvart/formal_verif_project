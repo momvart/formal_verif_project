{
 "cells": [
  {
   "cell_type": "code",
   "execution_count": null,
   "metadata": {},
   "outputs": [],
   "source": [
    "from modules.engine import SolverPool, SolverSelectionStrategy, MySolver, Query\n",
    "from modules.log_reader import read_qsym_log\n",
    "import logging"
   ]
  },
  {
   "cell_type": "code",
   "execution_count": null,
   "metadata": {},
   "outputs": [],
   "source": [
    "logging.basicConfig(level=logging.INFO)"
   ]
  },
  {
   "cell_type": "code",
   "execution_count": null,
   "metadata": {},
   "outputs": [],
   "source": [
    "class NegationSolverSelectionStrategy(SolverSelectionStrategy):\n",
    "    def get_solver(self, found_solver: MySolver | None, query: Query) -> MySolver:\n",
    "        if found_solver is None:\n",
    "            logging.info(\"No solver available, Creating a new one\")\n",
    "            solver = self.create_empty_solver()\n",
    "            solver.upgrade(query.path[:-1], query.constraints[:-1])\n",
    "            return solver\n",
    "\n",
    "        solver = found_solver\n",
    "        if found_solver.stack_path_len < len(query.path) - 1:\n",
    "            logging.info(\"Creating a new solver for a longer path\")\n",
    "            solver = self.create_empty_solver()\n",
    "            solver.copy_from(found_solver)\n",
    "            solver.upgrade(query.path[solver.stack_path_len:-1],\n",
    "                           query.constraints[solver.constraint_count:-1])\n",
    "        else:\n",
    "            logging.info(\"Solver is appropriate\")\n",
    "        \n",
    "        return solver\n"
   ]
  },
  {
   "cell_type": "code",
   "execution_count": null,
   "metadata": {},
   "outputs": [],
   "source": [
    "queries = read_qsym_log(\"./sample2_export.log\")\n",
    "# [q.to_json_serializable() for q in queries]\n",
    "len(queries)"
   ]
  },
  {
   "cell_type": "code",
   "execution_count": null,
   "metadata": {},
   "outputs": [],
   "source": [
    "pool = SolverPool()\n",
    "pool.selection_strategy = NegationSolverSelectionStrategy()\n",
    "pool.enable_solve_prefix_assertions()"
   ]
  },
  {
   "cell_type": "code",
   "execution_count": null,
   "metadata": {},
   "outputs": [],
   "source": [
    "logging.getLogger().setLevel(level=logging.DEBUG)\n",
    "\n",
    "for q in queries:\n",
    "    pool.solve(q)\n",
    "\n",
    "logging.getLogger().setLevel(level=logging.INFO)"
   ]
  },
  {
   "cell_type": "code",
   "execution_count": null,
   "metadata": {},
   "outputs": [],
   "source": [
    "print(\"Solver tree count:\", len(pool._solver_trees))\n",
    "print(\"Most recently used solver:\", list(pool._solvers.items.items())[-1][1]._solver)\n",
    "print(\"Statistics:\", [solver.statistics for (id, solver) in pool._solvers.items.items()])\n",
    "s = list(pool._solvers.items.items())[-1][1]._solver\n",
    "s.to_smt2()"
   ]
  }
 ],
 "metadata": {
  "kernelspec": {
   "display_name": "Python 3.10.6 ('st_project')",
   "language": "python",
   "name": "python3"
  },
  "language_info": {
   "codemirror_mode": {
    "name": "ipython",
    "version": 3
   },
   "file_extension": ".py",
   "mimetype": "text/x-python",
   "name": "python",
   "nbconvert_exporter": "python",
   "pygments_lexer": "ipython3",
   "version": "3.10.6"
  },
  "orig_nbformat": 4,
  "vscode": {
   "interpreter": {
    "hash": "7f882a3639542dd5811c1790480d5caf019b9e40a56d63205866f35f84192d7e"
   }
  }
 },
 "nbformat": 4,
 "nbformat_minor": 2
}
