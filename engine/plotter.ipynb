{
 "cells": [
  {
   "cell_type": "code",
   "execution_count": null,
   "metadata": {},
   "outputs": [],
   "source": [
    "import pandas as pd\n",
    "import matplotlib as plt\n",
    "import json\n",
    "import os"
   ]
  },
  {
   "cell_type": "code",
   "execution_count": null,
   "metadata": {},
   "outputs": [],
   "source": [
    "def split_path(path: str):\n",
    "    # Remove .json\n",
    "    path = path[:-5]\n",
    "    parts = path.split(\"__\")\n",
    "    return {\"strategy\": parts[0], \"dataset\": parts[1], \"pool_size\": parts[2]}\n",
    "\n",
    "def get_time_data(results):\n",
    "    result_dfs = list()\n",
    "    for path, datas in results.items():\n",
    "        data = pd.concat([datas[\"solvers_times\"], datas[\"trees_times\"]])\n",
    "        path_parts = split_path(path)\n",
    "        data[\"strategy\"] = path_parts[\"strategy\"]\n",
    "        data[\"dataset\"] = path_parts[\"dataset\"]\n",
    "        data[\"pool_size\"] = path_parts[\"pool_size\"]\n",
    "\n",
    "        result_dfs.append(data)\n",
    "    return pd.concat(result_dfs) \\\n",
    "        .reset_index(names=[\"subject\"], inplace=False) \\\n",
    "        .set_index([\"dataset\", \"strategy\", \"pool_size\", \"subject\"], inplace=False)\n"
   ]
  },
  {
   "cell_type": "code",
   "execution_count": null,
   "metadata": {},
   "outputs": [],
   "source": [
    "target_paths = list()\n",
    "for _, _, paths in os.walk(\"./evaluations/\"):\n",
    "    for path in paths:\n",
    "        target_paths.append(path)\n",
    "\n",
    "\n",
    "results = dict()\n",
    "for path in target_paths:\n",
    "    with open(f\"./evaluations/{path}\", \"r\") as f:\n",
    "        results[path] = json.load(f)\n",
    "\n",
    "results = {path: {key: pd.DataFrame(value) for key, value in data.items() if key != \"cache\"} for path, data in results.items()}\n",
    "time_data = get_time_data(results)\n",
    "time_data"
   ]
  },
  {
   "cell_type": "code",
   "execution_count": null,
   "metadata": {},
   "outputs": [],
   "source": [
    "time_sum_data = time_data[[\"sum\"]].pivot_table(index=[\"dataset\", \"strategy\", \"pool_size\"], columns=[\"subject\"])\n",
    "time_sum_data.columns = time_sum_data.columns.droplevel(0)\n",
    "time_sum_data = time_sum_data[[\"adding\", \"checking\", \"copying\", \"finding\", \"insertion\"]]\n",
    "time_sum_data = time_sum_data.pivot_table(index=[\"strategy\", \"pool_size\"], columns=[\"dataset\"])\n",
    "time_sum_data.columns = time_sum_data.columns.swaplevel(0, 1)\n",
    "for dataset in time_sum_data.columns.levels[0]:\n",
    "    time_sum_data[dataset].plot.bar(stacked=True, title=dataset)"
   ]
  }
 ],
 "metadata": {
  "kernelspec": {
   "display_name": "Python 3.10.6 ('st_project')",
   "language": "python",
   "name": "python3"
  },
  "language_info": {
   "codemirror_mode": {
    "name": "ipython",
    "version": 3
   },
   "file_extension": ".py",
   "mimetype": "text/x-python",
   "name": "python",
   "nbconvert_exporter": "python",
   "pygments_lexer": "ipython3",
   "version": "3.10.6"
  },
  "orig_nbformat": 4,
  "vscode": {
   "interpreter": {
    "hash": "7f882a3639542dd5811c1790480d5caf019b9e40a56d63205866f35f84192d7e"
   }
  }
 },
 "nbformat": 4,
 "nbformat_minor": 2
}
