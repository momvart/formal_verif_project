{
 "cells": [
  {
   "cell_type": "code",
   "execution_count": 1,
   "metadata": {},
   "outputs": [],
   "source": [
    "from z3 import *\n",
    "import z3\n",
    "import pandas as pd\n",
    "import time"
   ]
  },
  {
   "cell_type": "code",
   "execution_count": 2,
   "metadata": {},
   "outputs": [
    {
     "name": "stdout",
     "output_type": "stream",
     "text": [
      "61 queries were loaded.\n"
     ]
    }
   ],
   "source": [
    "def parse_queries_from_klee_smt2_dump(path: str):\n",
    "    queries = []\n",
    "    with open(path) as f:\n",
    "        current = \"\"\n",
    "        for line in f:\n",
    "            if line == \"(check-sat)\":\n",
    "                continue\n",
    "            if line.strip() == \"(reset)\":\n",
    "                queries.append(z3.parse_smt2_string(current))\n",
    "                current = \"\"\n",
    "            current += line\n",
    "    return queries\n",
    "\n",
    "queries = parse_queries_from_klee_smt2_dump(\"query_dump.smt2\")\n",
    "print(f\"{len(queries)} queries were loaded.\")            "
   ]
  },
  {
   "cell_type": "code",
   "execution_count": 3,
   "metadata": {},
   "outputs": [],
   "source": [
    "def calc_distance_keeping_constraint_order(first: list, second: list):\n",
    "    \"\"\"\n",
    "    Calculates a distance between two queries while not trying to change the order\n",
    "    of constraints inside them.\n",
    "    The returned distance mimics the cost of pushing and popping when the second query\n",
    "    is solved right after the first query.\n",
    "    \"\"\"\n",
    "    i = 0\n",
    "    while i < len(first) and i < len(second) and first[i].eq(second[i]):\n",
    "        i += 1\n",
    "\n",
    "    return len(first) - i + len(second) - i\n",
    "    # If you believe that there's no cost in popping, you can use the following\n",
    "    # formula. But personally, I see each pop as a negative thing and losing a\n",
    "    # progress.\n",
    "    # return len(second) - i\n",
    "\n",
    "distances = [[0] * len(queries)] * len(queries)\n",
    "for i in range(len(queries)):\n",
    "    for j in range(len(queries)):\n",
    "        distances[i][j] = calc_distance_keeping_constraint_order(queries[i], queries[j])"
   ]
  },
  {
   "cell_type": "code",
   "execution_count": 4,
   "metadata": {},
   "outputs": [
    {
     "name": "stdout",
     "output_type": "stream",
     "text": [
      "Objective: 629 miles\n",
      "Route for vehicle 0:\n",
      " 0 -> 60 -> 23 -> 2 -> 1 -> 5 -> 3 -> 46 -> 16 -> 12 -> 6 -> 4 -> 56 -> 31 -> 29 -> 28 -> 27 -> 26 -> 25 -> 22 -> 19 -> 15 -> 14 -> 13 -> 10 -> 7 -> 54 -> 52 -> 50 -> 49 -> 44 -> 43 -> 41 -> 38 -> 36 -> 35 -> 34 -> 32 -> 30 -> 20 -> 18 -> 17 -> 11 -> 8 -> 59 -> 58 -> 57 -> 55 -> 53 -> 51 -> 48 -> 47 -> 45 -> 42 -> 40 -> 39 -> 37 -> 33 -> 24 -> 21 -> 9 -> 0\n",
      "\n"
     ]
    }
   ],
   "source": [
    "def get_tsp_circuit(distances):\n",
    "    import ortools.constraint_solver.pywrapcp as pywrapcp\n",
    "    from ortools.constraint_solver import routing_enums_pb2\n",
    "\n",
    "    manager = pywrapcp.RoutingIndexManager(len(distances), 1, 0)\n",
    "    routing = pywrapcp.RoutingModel(manager)\n",
    "\n",
    "    def distance_callback(from_index, to_index):\n",
    "        \"\"\"Returns the distance between the two nodes.\"\"\"\n",
    "        # Convert from routing variable Index to distance matrix NodeIndex.\n",
    "        from_node = manager.IndexToNode(from_index)\n",
    "        to_node = manager.IndexToNode(to_index)\n",
    "        return distances[from_node][to_node]\n",
    "\n",
    "    transit_callback_index = routing.RegisterTransitCallback(distance_callback)\n",
    "    routing.SetArcCostEvaluatorOfAllVehicles(transit_callback_index)\n",
    "    search_parameters = pywrapcp.DefaultRoutingSearchParameters()\n",
    "    search_parameters.first_solution_strategy = (\n",
    "        routing_enums_pb2.FirstSolutionStrategy.AUTOMATIC)\n",
    "\n",
    "    def print_solution(manager, routing, solution):\n",
    "        \"\"\"Prints solution on console.\"\"\"\n",
    "        print('Objective: {} miles'.format(solution.ObjectiveValue()))\n",
    "        index = routing.Start(0)\n",
    "        plan_output = 'Route for vehicle 0:\\n'\n",
    "        route_distance = 0\n",
    "        while not routing.IsEnd(index):\n",
    "            plan_output += ' {} ->'.format(manager.IndexToNode(index))\n",
    "            previous_index = index\n",
    "            index = solution.Value(routing.NextVar(index))\n",
    "            route_distance += routing.GetArcCostForVehicle(previous_index, index, 0)\n",
    "        plan_output += ' {}\\n'.format(manager.IndexToNode(index))\n",
    "        print(plan_output)\n",
    "        plan_output += 'Route distance: {}miles\\n'.format(route_distance)\n",
    "\n",
    "    def get_vector(manager, routing, solution):\n",
    "        index = routing.Start(0)\n",
    "        route = []\n",
    "        while not routing.IsEnd(index):\n",
    "            route.append(manager.IndexToNode(index))\n",
    "            index = solution.Value(routing.NextVar(index))\n",
    "\n",
    "        return route\n",
    "\n",
    "    solution = routing.SolveWithParameters(search_parameters)\n",
    "    if solution:\n",
    "        print_solution(manager, routing, solution)\n",
    "\n",
    "    return get_vector(manager, routing, solution)\n",
    "\n",
    "best_case = get_tsp_circuit(distances)"
   ]
  },
  {
   "cell_type": "code",
   "execution_count": 5,
   "metadata": {},
   "outputs": [],
   "source": [
    "from typing import List\n",
    "\n",
    "\n",
    "def check_by_resetting(queries, solver=None):\n",
    "    solver = solver if solver is not None else Solver()\n",
    "    results = {}\n",
    "    \n",
    "    total_time = 0.0\n",
    "    \n",
    "    for i, query in enumerate(queries):\n",
    "        start_time = time.perf_counter()\n",
    "        result = solver.check(query)\n",
    "        end_time = time.perf_counter()\n",
    "        total_time += end_time - start_time\n",
    "        results[i] = result\n",
    "    \n",
    "    return (results, solver.statistics(), total_time)\n",
    "\n",
    "def check_incrementally(queries, ordering: List[int], solver=None):\n",
    "    solver = solver if solver is not None else Solver()\n",
    "    results = {}\n",
    "\n",
    "    last_query = []\n",
    "\n",
    "    total_time = 0.0\n",
    "    total_pops = 0\n",
    "    total_pushes = 0\n",
    "\n",
    "    for index in ordering:\n",
    "        if index in results:\n",
    "            print(\"Warning: Skipping repeated query. Query index =\", index)\n",
    "            continue\n",
    "        query = queries[index]\n",
    "        \n",
    "        i = 0\n",
    "        while i < len(last_query) and i < len(query) and last_query[i].eq(query[i]):\n",
    "            i += 1\n",
    "\n",
    "        solver.pop(len(last_query) - i)\n",
    "        total_pops += len(last_query) - i\n",
    "\n",
    "        for i in range(i, len(query)):\n",
    "            solver.push()\n",
    "            total_pushes += 1\n",
    "            solver.add(query[i])\n",
    "        \n",
    "        start_time = time.perf_counter()\n",
    "        result = solver.check()\n",
    "        end_time = time.perf_counter()\n",
    "        total_time += end_time - start_time\n",
    "        results[index] = result\n",
    "\n",
    "        last_query = query\n",
    "    \n",
    "    return (results, solver.statistics(), total_time, (total_pushes, total_pops, sum(len(q) for q in queries)))"
   ]
  },
  {
   "cell_type": "code",
   "execution_count": 6,
   "metadata": {},
   "outputs": [
    {
     "name": "stdout",
     "output_type": "stream",
     "text": [
      "Spent time: 0.06405430100858212\n"
     ]
    }
   ],
   "source": [
    "# Base case\n",
    "base_results, statistics, total_time = check_by_resetting(queries)\n",
    "print(\"Spent time:\", total_time)"
   ]
  },
  {
   "cell_type": "code",
   "execution_count": 7,
   "metadata": {},
   "outputs": [
    {
     "name": "stdout",
     "output_type": "stream",
     "text": [
      "0.07369697460671887\n",
      "240 246 287\n"
     ]
    }
   ],
   "source": [
    "# Best case\n",
    "best_results, statistics, total_time, (total_pushes, total_pops, total_constraints) = check_incrementally(queries, best_case)\n",
    "assert(base_results == best_results)\n",
    "print(total_time)\n",
    "print(total_pops, total_pushes, total_constraints)"
   ]
  },
  {
   "cell_type": "code",
   "execution_count": 9,
   "metadata": {},
   "outputs": [
    {
     "name": "stdout",
     "output_type": "stream",
     "text": [
      "Average time for resetting: 0.0601999520737445\n",
      "Average time for incremental: 0.07666392293991521\n"
     ]
    }
   ],
   "source": [
    "REPEAT_COUNT = 100\n",
    "total_time = 0.0\n",
    "solver = Solver()\n",
    "for i in range(REPEAT_COUNT):\n",
    "    _, _, spent_time = check_by_resetting(queries, solver=solver)\n",
    "    total_time += spent_time\n",
    "    solver.reset()\n",
    "print(\"Average time for resetting:\", total_time / REPEAT_COUNT)\n",
    "\n",
    "total_time = 0.0\n",
    "for i in range(REPEAT_COUNT):\n",
    "    _, _, spent_time, _ = check_incrementally(queries, best_case, solver=solver)\n",
    "    total_time += spent_time\n",
    "    solver.reset()\n",
    "print(\"Average time for incremental:\", total_time / REPEAT_COUNT)"
   ]
  }
 ],
 "metadata": {
  "kernelspec": {
   "display_name": "Python 3.10.6 ('st_project')",
   "language": "python",
   "name": "python3"
  },
  "language_info": {
   "codemirror_mode": {
    "name": "ipython",
    "version": 3
   },
   "file_extension": ".py",
   "mimetype": "text/x-python",
   "name": "python",
   "nbconvert_exporter": "python",
   "pygments_lexer": "ipython3",
   "version": "3.10.6"
  },
  "orig_nbformat": 4,
  "vscode": {
   "interpreter": {
    "hash": "7f882a3639542dd5811c1790480d5caf019b9e40a56d63205866f35f84192d7e"
   }
  }
 },
 "nbformat": 4,
 "nbformat_minor": 2
}
