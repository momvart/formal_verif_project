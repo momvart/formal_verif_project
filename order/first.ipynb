{
 "cells": [
  {
   "cell_type": "code",
   "execution_count": 20,
   "metadata": {},
   "outputs": [],
   "source": [
    "from z3 import *\n",
    "import z3\n",
    "import pandas as pd\n",
    "import time\n",
    "from tqdm import tqdm\n",
    "from concurrent.futures import ProcessPoolExecutor\n",
    "from itertools import islice"
   ]
  },
  {
   "cell_type": "code",
   "execution_count": 54,
   "metadata": {},
   "outputs": [
    {
     "name": "stdout",
     "output_type": "stream",
     "text": [
      "3090 queries were loaded.\n"
     ]
    }
   ],
   "source": [
    "def parse_queries_from_klee_smt2_dump(path: str):\n",
    "    queries = []\n",
    "    with open(path) as f:\n",
    "        current = \"\"\n",
    "        for line in f:\n",
    "            if line == \"(check-sat)\":\n",
    "                continue\n",
    "            if line.strip() == \"(reset)\":\n",
    "                queries.append(z3.parse_smt2_string(current))\n",
    "                current = \"\"\n",
    "            current += line\n",
    "    return queries\n",
    "\n",
    "queries = parse_queries_from_klee_smt2_dump(\"who-cache.smt2\")\n",
    "print(f\"{len(queries)} queries were loaded.\")            "
   ]
  },
  {
   "cell_type": "code",
   "execution_count": 55,
   "metadata": {},
   "outputs": [
    {
     "name": "stderr",
     "output_type": "stream",
     "text": [
      "100%|██████████| 3090/3090 [00:14<00:00, 212.53it/s]\n"
     ]
    }
   ],
   "source": [
    "def calc_distance_keeping_constraint_order(first: list, second: list):\n",
    "    \"\"\"\n",
    "    Calculates a distance between two queries while not trying to change the order\n",
    "    of constraints inside them.\n",
    "    The returned distance mimics the cost of pushing and popping when the second query\n",
    "    is solved right after the first query.\n",
    "    \"\"\"\n",
    "    i = 0\n",
    "    while i < len(first) and i < len(second) and first[i].eq(second[i]):\n",
    "        i += 1\n",
    "\n",
    "    return (i, len(first) - i + len(second) - i)\n",
    "    # If you believe that there's no cost in popping, you can use the following\n",
    "    # formula. But personally, I see each pop as a negative thing and losing a\n",
    "    # progress.\n",
    "    # return (i, len(second) - i)\n",
    "\n",
    "def calc_distances_for(query_index: int, queries, calc_distance):\n",
    "    query = queries[query_index]\n",
    "    distances = [0] * len(queries)\n",
    "    for j in range(len(queries)):\n",
    "        distances[j] = calc_distance(query, queries[j])\n",
    "    return distances\n",
    "\n",
    "def calc_distances_for_map(query_index: int):\n",
    "    return calc_distances_for(query_index, queries, calc_distance_keeping_constraint_order)\n",
    "\n",
    "with ProcessPoolExecutor() as executor:\n",
    "    distances = list(tqdm(executor.map(calc_distances_for_map, range(len(queries))), total=len(queries)))\n",
    "\n",
    "common_prefix_lens = [[col[0] for col in row] for row in distances]\n",
    "distances = [[col[1] for col in row] for row in distances]"
   ]
  },
  {
   "cell_type": "code",
   "execution_count": 56,
   "metadata": {},
   "outputs": [],
   "source": [
    "def get_tsp_circuit(distances):\n",
    "    import ortools.constraint_solver.pywrapcp as pywrapcp\n",
    "    from ortools.constraint_solver import routing_enums_pb2\n",
    "\n",
    "    manager = pywrapcp.RoutingIndexManager(len(distances), 1, 0)\n",
    "    routing = pywrapcp.RoutingModel(manager)\n",
    "\n",
    "    def distance_callback(from_index, to_index):\n",
    "        \"\"\"Returns the distance between the two nodes.\"\"\"\n",
    "        # Convert from routing variable Index to distance matrix NodeIndex.\n",
    "        from_node = manager.IndexToNode(from_index)\n",
    "        to_node = manager.IndexToNode(to_index)\n",
    "        return distances[from_node][to_node]\n",
    "\n",
    "    transit_callback_index = routing.RegisterTransitCallback(distance_callback)\n",
    "    routing.SetArcCostEvaluatorOfAllVehicles(transit_callback_index)\n",
    "    search_parameters = pywrapcp.DefaultRoutingSearchParameters()\n",
    "    search_parameters.first_solution_strategy = (\n",
    "        routing_enums_pb2.FirstSolutionStrategy.AUTOMATIC)\n",
    "\n",
    "    def print_solution(manager, routing, solution):\n",
    "        \"\"\"Prints solution on console.\"\"\"\n",
    "        print('Objective: {} miles'.format(solution.ObjectiveValue()))\n",
    "        index = routing.Start(0)\n",
    "        plan_output = 'Route for vehicle 0:\\n'\n",
    "        route_distance = 0\n",
    "        while not routing.IsEnd(index):\n",
    "            plan_output += ' {} ->'.format(manager.IndexToNode(index))\n",
    "            previous_index = index\n",
    "            index = solution.Value(routing.NextVar(index))\n",
    "            route_distance += routing.GetArcCostForVehicle(previous_index, index, 0)\n",
    "        plan_output += ' {}\\n'.format(manager.IndexToNode(index))\n",
    "        print(plan_output)\n",
    "        plan_output += 'Route distance: {}miles\\n'.format(route_distance)\n",
    "\n",
    "    def get_vector(manager, routing, solution):\n",
    "        index = routing.Start(0)\n",
    "        route = []\n",
    "        while not routing.IsEnd(index):\n",
    "            route.append(manager.IndexToNode(index))\n",
    "            index = solution.Value(routing.NextVar(index))\n",
    "\n",
    "        return route\n",
    "\n",
    "    solution = routing.SolveWithParameters(search_parameters)\n",
    "    # if solution:\n",
    "    #     print_solution(manager, routing, solution)\n",
    "\n",
    "    return get_vector(manager, routing, solution)\n",
    "\n",
    "best_case = get_tsp_circuit(distances)"
   ]
  },
  {
   "cell_type": "code",
   "execution_count": 57,
   "metadata": {},
   "outputs": [],
   "source": [
    "from typing import List\n",
    "\n",
    "\n",
    "def check_by_resetting(queries, solver=None):\n",
    "    solver = solver if solver is not None else Solver()\n",
    "    results = {}\n",
    "    \n",
    "    total_time = 0.0\n",
    "    \n",
    "    for i, query in enumerate(tqdm(queries)):\n",
    "        start_time = time.perf_counter()\n",
    "        result = solver.check(query)\n",
    "        end_time = time.perf_counter()\n",
    "        total_time += end_time - start_time\n",
    "        results[i] = result\n",
    "    \n",
    "    return (results, solver.statistics(), total_time)\n",
    "\n",
    "def check_incrementally(queries, ordering: List[int], solver=None):\n",
    "    solver = solver if solver is not None else Solver()\n",
    "    results = {}\n",
    "\n",
    "    queries = queries + [queries[ordering[-1]]]\n",
    "    ordering = ordering + [ordering[-1]]\n",
    "    \n",
    "    # last_index = len(queries) - 1\n",
    "    current_stack_count = 0\n",
    "\n",
    "    total_time = 0.0\n",
    "    total_pops = 0\n",
    "    total_pushes = 0\n",
    "\n",
    "    for index, next_index in tqdm(zip(ordering[:len(ordering) - 1], ordering[1:]), total=len(queries) - 1):\n",
    "        if index in results:\n",
    "            print(\"Warning: Skipping repeated query. Query index =\", index)\n",
    "            continue\n",
    "        # last_query = queries[last_index]\n",
    "        query = queries[index]\n",
    "        \n",
    "        next_prefix_len = common_prefix_lens[index][next_index]\n",
    "\n",
    "        start_time = time.perf_counter()\n",
    "\n",
    "        if current_stack_count < next_prefix_len:\n",
    "            for i in range(current_stack_count, next_prefix_len):\n",
    "                solver.push()\n",
    "                solver.add(query[i])\n",
    "            total_pushes += next_prefix_len - current_stack_count\n",
    "            current_stack_count = next_prefix_len\n",
    "\n",
    "        solver.push()\n",
    "        total_pushes += 1\n",
    "        solver.add(query[current_stack_count:])\n",
    "        \n",
    "        result = solver.check()\n",
    "\n",
    "        solver.pop()\n",
    "        total_pops +=1\n",
    "        \n",
    "        if current_stack_count > next_prefix_len:\n",
    "            solver.pop(current_stack_count - next_prefix_len)\n",
    "            total_pops += current_stack_count - next_prefix_len\n",
    "            current_stack_count = next_prefix_len\n",
    "\n",
    "        end_time = time.perf_counter()\n",
    "        total_time += end_time - start_time\n",
    "        results[index] = result\n",
    "\n",
    "        # last_index = index\n",
    "    \n",
    "    return (results, solver.statistics(), total_time, (total_pushes, total_pops, sum(len(q) for q in queries)))"
   ]
  },
  {
   "cell_type": "code",
   "execution_count": 58,
   "metadata": {},
   "outputs": [
    {
     "name": "stderr",
     "output_type": "stream",
     "text": [
      "100%|██████████| 3090/3090 [00:13<00:00, 222.32it/s]"
     ]
    },
    {
     "name": "stdout",
     "output_type": "stream",
     "text": [
      "Spent time: 13.829318084637634\n"
     ]
    },
    {
     "name": "stderr",
     "output_type": "stream",
     "text": [
      "\n"
     ]
    }
   ],
   "source": [
    "# Base case\n",
    "base_results, statistics, total_time = check_by_resetting(queries)\n",
    "print(\"Spent time:\", total_time)"
   ]
  },
  {
   "cell_type": "code",
   "execution_count": 59,
   "metadata": {},
   "outputs": [
    {
     "name": "stderr",
     "output_type": "stream",
     "text": [
      "100%|██████████| 3090/3090 [00:09<00:00, 341.15it/s]"
     ]
    },
    {
     "name": "stdout",
     "output_type": "stream",
     "text": [
      "9.01407857844606\n",
      "155242 155524 680042\n"
     ]
    },
    {
     "name": "stderr",
     "output_type": "stream",
     "text": [
      "\n"
     ]
    }
   ],
   "source": [
    "# Best case\n",
    "best_results, statistics, total_time, (total_pushes, total_pops, total_constraints) = check_incrementally(queries, best_case)\n",
    "assert(base_results == best_results)\n",
    "print(total_time)\n",
    "print(total_pops, total_pushes, total_constraints)"
   ]
  },
  {
   "cell_type": "code",
   "execution_count": 60,
   "metadata": {},
   "outputs": [
    {
     "name": "stderr",
     "output_type": "stream",
     "text": [
      "100%|██████████| 3090/3090 [00:14<00:00, 214.53it/s]\n",
      "100%|██████████| 3090/3090 [00:14<00:00, 217.69it/s]\n",
      "100%|██████████| 3090/3090 [00:14<00:00, 211.92it/s]\n",
      "100%|██████████| 3090/3090 [00:14<00:00, 215.19it/s]\n",
      "100%|██████████| 3090/3090 [00:14<00:00, 217.02it/s]\n"
     ]
    },
    {
     "name": "stdout",
     "output_type": "stream",
     "text": [
      "Average time for resetting: 14.285437431070022\n"
     ]
    },
    {
     "name": "stderr",
     "output_type": "stream",
     "text": [
      "100%|██████████| 3090/3090 [00:08<00:00, 345.28it/s]\n",
      "100%|██████████| 3090/3090 [00:09<00:00, 341.59it/s]\n",
      "100%|██████████| 3090/3090 [00:09<00:00, 331.55it/s]\n",
      "100%|██████████| 3090/3090 [00:12<00:00, 255.47it/s]\n",
      "100%|██████████| 3090/3090 [00:11<00:00, 273.73it/s]"
     ]
    },
    {
     "name": "stdout",
     "output_type": "stream",
     "text": [
      "Average time for incremental: 10.081214405503124\n"
     ]
    },
    {
     "name": "stderr",
     "output_type": "stream",
     "text": [
      "\n"
     ]
    }
   ],
   "source": [
    "REPEAT_COUNT = 5\n",
    "total_time = 0.0\n",
    "solver = Solver()\n",
    "for i in range(REPEAT_COUNT):\n",
    "    _, _, spent_time = check_by_resetting(queries, solver=solver)\n",
    "    total_time += spent_time\n",
    "    solver.reset()\n",
    "print(\"Average time for resetting:\", total_time / REPEAT_COUNT)\n",
    "\n",
    "total_time = 0.0\n",
    "for i in range(REPEAT_COUNT):\n",
    "    _, _, spent_time, _ = check_incrementally(queries, best_case, solver=solver)\n",
    "    total_time += spent_time\n",
    "    solver.reset()\n",
    "print(\"Average time for incremental:\", total_time / REPEAT_COUNT)"
   ]
  }
 ],
 "metadata": {
  "kernelspec": {
   "display_name": "Python 3.10.6 ('st_project')",
   "language": "python",
   "name": "python3"
  },
  "language_info": {
   "codemirror_mode": {
    "name": "ipython",
    "version": 3
   },
   "file_extension": ".py",
   "mimetype": "text/x-python",
   "name": "python",
   "nbconvert_exporter": "python",
   "pygments_lexer": "ipython3",
   "version": "3.10.6"
  },
  "orig_nbformat": 4,
  "vscode": {
   "interpreter": {
    "hash": "7f882a3639542dd5811c1790480d5caf019b9e40a56d63205866f35f84192d7e"
   }
  }
 },
 "nbformat": 4,
 "nbformat_minor": 2
}
