{
 "cells": [
  {
   "cell_type": "code",
   "execution_count": 1,
   "metadata": {},
   "outputs": [],
   "source": [
    "from z3 import *\n",
    "import z3\n",
    "import pandas as pd\n",
    "import time"
   ]
  },
  {
   "cell_type": "code",
   "execution_count": 5,
   "metadata": {},
   "outputs": [
    {
     "name": "stdout",
     "output_type": "stream",
     "text": [
      "61 queries were loaded.\n"
     ]
    }
   ],
   "source": [
    "def parse_queries_from_klee_smt2_dump(path: str):\n",
    "    queries = []\n",
    "    with open(path) as f:\n",
    "        current = \"\"\n",
    "        for line in f:\n",
    "            if line == \"(check-sat)\":\n",
    "                continue\n",
    "            if line.strip() == \"(reset)\":\n",
    "                queries.append(z3.parse_smt2_string(current))\n",
    "                current = \"\"\n",
    "            current += line\n",
    "    return queries\n",
    "\n",
    "queries = parse_queries_from_klee_smt2_dump(\"query_dump.smt2\")\n",
    "print(f\"{len(queries)} queries were loaded.\")            "
   ]
  },
  {
   "cell_type": "code",
   "execution_count": 7,
   "metadata": {},
   "outputs": [
    {
     "ename": "NameError",
     "evalue": "name 'calc_distance_keep_order' is not defined",
     "output_type": "error",
     "traceback": [
      "\u001b[0;31m---------------------------------------------------------------------------\u001b[0m",
      "\u001b[0;31mNameError\u001b[0m                                 Traceback (most recent call last)",
      "Cell \u001b[0;32mIn [7], line 21\u001b[0m\n\u001b[1;32m     19\u001b[0m \u001b[39mfor\u001b[39;00m i \u001b[39min\u001b[39;00m \u001b[39mrange\u001b[39m(\u001b[39mlen\u001b[39m(queries)):\n\u001b[1;32m     20\u001b[0m     \u001b[39mfor\u001b[39;00m j \u001b[39min\u001b[39;00m \u001b[39mrange\u001b[39m(\u001b[39mlen\u001b[39m(queries)):\n\u001b[0;32m---> 21\u001b[0m         distances[i][j] \u001b[39m=\u001b[39m calc_distance_keep_order(queries[i], queries[j])\n",
      "\u001b[0;31mNameError\u001b[0m: name 'calc_distance_keep_order' is not defined"
     ]
    }
   ],
   "source": [
    "def calc_distance_keeping_constraint_order(first: list, second: list):\n",
    "    \"\"\"\n",
    "    Calculates a distance between two queries while not trying to change the order\n",
    "    of constraints inside them.\n",
    "    The returned distance mimics the cost of pushing and popping when the second query\n",
    "    is solved right after the first query.\n",
    "    \"\"\"\n",
    "    i = 0\n",
    "    while i < len(first) and i < len(second) and first[i].eq(second[i]):\n",
    "        i += 1\n",
    "\n",
    "    return len(first) - i + len(second) - i\n",
    "    # If you believe that there's no cost in popping, you can use the following\n",
    "    # formula. But personally, I see each pop as a negative thing and losing a\n",
    "    # progress.\n",
    "    # return len(second) - i\n",
    "\n",
    "distances = [[0] * len(queries)] * len(queries)\n",
    "for i in range(len(queries)):\n",
    "    for j in range(len(queries)):\n",
    "        distances[i][j] = calc_distance_keep_order(queries[i], queries[j])"
   ]
  },
  {
   "cell_type": "code",
   "execution_count": 8,
   "metadata": {},
   "outputs": [
    {
     "name": "stdout",
     "output_type": "stream",
     "text": [
      "Objective: 0 miles\n",
      "Route for vehicle 0:\n",
      " 0 -> 60 -> 59 -> 58 -> 57 -> 56 -> 55 -> 54 -> 53 -> 52 -> 51 -> 50 -> 49 -> 48 -> 47 -> 46 -> 45 -> 44 -> 43 -> 42 -> 41 -> 40 -> 39 -> 38 -> 37 -> 36 -> 35 -> 34 -> 33 -> 32 -> 31 -> 30 -> 29 -> 28 -> 27 -> 26 -> 25 -> 24 -> 23 -> 22 -> 21 -> 20 -> 19 -> 18 -> 17 -> 16 -> 15 -> 14 -> 13 -> 12 -> 11 -> 10 -> 9 -> 8 -> 7 -> 6 -> 5 -> 4 -> 3 -> 2 -> 1 -> 0\n",
      "\n"
     ]
    }
   ],
   "source": [
    "def get_tsp_circuit(distances):\n",
    "    import ortools.constraint_solver.pywrapcp as pywrapcp\n",
    "    from ortools.constraint_solver import routing_enums_pb2\n",
    "\n",
    "    manager = pywrapcp.RoutingIndexManager(len(distances), 1, 0)\n",
    "    routing = pywrapcp.RoutingModel(manager)\n",
    "\n",
    "    def distance_callback(from_index, to_index):\n",
    "        \"\"\"Returns the distance between the two nodes.\"\"\"\n",
    "        # Convert from routing variable Index to distance matrix NodeIndex.\n",
    "        from_node = manager.IndexToNode(from_index)\n",
    "        to_node = manager.IndexToNode(to_index)\n",
    "        return distances[from_node][to_node]\n",
    "\n",
    "    transit_callback_index = routing.RegisterTransitCallback(distance_callback)\n",
    "    routing.SetArcCostEvaluatorOfAllVehicles(transit_callback_index)\n",
    "    search_parameters = pywrapcp.DefaultRoutingSearchParameters()\n",
    "    search_parameters.first_solution_strategy = (\n",
    "        routing_enums_pb2.FirstSolutionStrategy.AUTOMATIC)\n",
    "\n",
    "    def print_solution(manager, routing, solution):\n",
    "        \"\"\"Prints solution on console.\"\"\"\n",
    "        print('Objective: {} miles'.format(solution.ObjectiveValue()))\n",
    "        index = routing.Start(0)\n",
    "        plan_output = 'Route for vehicle 0:\\n'\n",
    "        route_distance = 0\n",
    "        while not routing.IsEnd(index):\n",
    "            plan_output += ' {} ->'.format(manager.IndexToNode(index))\n",
    "            previous_index = index\n",
    "            index = solution.Value(routing.NextVar(index))\n",
    "            route_distance += routing.GetArcCostForVehicle(previous_index, index, 0)\n",
    "        plan_output += ' {}\\n'.format(manager.IndexToNode(index))\n",
    "        print(plan_output)\n",
    "        plan_output += 'Route distance: {}miles\\n'.format(route_distance)\n",
    "\n",
    "    def get_vector(manager, routing, solution):\n",
    "        index = routing.Start(0)\n",
    "        route = []\n",
    "        while not routing.IsEnd(index):\n",
    "            route.append(manager.IndexToNode(index))\n",
    "            index = solution.Value(routing.NextVar(index))\n",
    "\n",
    "        return route\n",
    "\n",
    "    solution = routing.SolveWithParameters(search_parameters)\n",
    "    if solution:\n",
    "        print_solution(manager, routing, solution)\n",
    "\n",
    "    return get_vector(manager, routing, solution)\n",
    "\n",
    "best_case = get_tsp_circuit(distances)"
   ]
  },
  {
   "cell_type": "code",
   "execution_count": 18,
   "metadata": {},
   "outputs": [],
   "source": [
    "from typing import List\n",
    "\n",
    "\n",
    "def check_by_resetting(queries):\n",
    "    solver = Solver()\n",
    "    results = {}\n",
    "    \n",
    "    total_time = 0.0\n",
    "    \n",
    "    for i, query in enumerate(queries):\n",
    "        start_time = time.perf_counter()\n",
    "        result = solver.check(query)\n",
    "        end_time = time.perf_counter()\n",
    "        total_time += end_time - start_time\n",
    "        results[i] = result\n",
    "    \n",
    "    return (results, solver.statistics(), total_time)\n",
    "\n",
    "def check_incrementally(queries, ordering: List[int]):\n",
    "    solver = Solver()\n",
    "    results = {}\n",
    "\n",
    "    last_query = []\n",
    "\n",
    "    total_time = 0.0\n",
    "    total_pops = 0\n",
    "    total_pushes = 0\n",
    "\n",
    "    for index in ordering:\n",
    "        query = queries[index]\n",
    "        \n",
    "        i = 0\n",
    "        while i < len(last_query) and i < len(query) and last_query[i].eq(query[i]):\n",
    "            i += 1\n",
    "\n",
    "        solver.pop(len(last_query) - i)\n",
    "        total_pops += len(last_query) - i\n",
    "\n",
    "        for i in range(i, len(query)):\n",
    "            solver.push()\n",
    "            total_pushes += 1\n",
    "            solver.add(query[i])\n",
    "        \n",
    "        start_time = time.perf_counter()\n",
    "        result = solver.check()\n",
    "        end_time = time.perf_counter()\n",
    "        total_time += end_time - start_time\n",
    "        results[index] = result\n",
    "\n",
    "        last_query = query\n",
    "    \n",
    "    return (results, solver.statistics(), total_time, (total_pushes, total_pops, sum(len(q) for q in queries)))"
   ]
  },
  {
   "cell_type": "code",
   "execution_count": 19,
   "metadata": {},
   "outputs": [
    {
     "name": "stdout",
     "output_type": "stream",
     "text": [
      "Spent time: 0.0706513116019778\n"
     ]
    }
   ],
   "source": [
    "# Base case\n",
    "base_results, statistics, total_time = check_by_resetting(queries)\n",
    "print(\"Spent time:\", total_time)"
   ]
  },
  {
   "cell_type": "code",
   "execution_count": 20,
   "metadata": {},
   "outputs": [
    {
     "name": "stdout",
     "output_type": "stream",
     "text": [
      "0.07822392892558128\n",
      "260 261 287\n"
     ]
    }
   ],
   "source": [
    "# Best case\n",
    "best_results, statistics, total_time, (total_pushes, total_pops, total_constraints) = check_incrementally(queries, best_case)\n",
    "assert(base_results == best_results)\n",
    "print(total_time)\n",
    "print(total_pops, total_pushes, total_constraints)"
   ]
  },
  {
   "cell_type": "code",
   "execution_count": null,
   "metadata": {},
   "outputs": [],
   "source": []
  }
 ],
 "metadata": {
  "kernelspec": {
   "display_name": "Python 3.10.6 ('st_project')",
   "language": "python",
   "name": "python3"
  },
  "language_info": {
   "codemirror_mode": {
    "name": "ipython",
    "version": 3
   },
   "file_extension": ".py",
   "mimetype": "text/x-python",
   "name": "python",
   "nbconvert_exporter": "python",
   "pygments_lexer": "ipython3",
   "version": "3.10.6"
  },
  "orig_nbformat": 4,
  "vscode": {
   "interpreter": {
    "hash": "7f882a3639542dd5811c1790480d5caf019b9e40a56d63205866f35f84192d7e"
   }
  }
 },
 "nbformat": 4,
 "nbformat_minor": 2
}
